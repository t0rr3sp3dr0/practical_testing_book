{
 "cells": [
  {
   "cell_type": "markdown",
   "metadata": {},
   "source": [
    "Motivation and Basic Definitions\n",
    "================================\n",
    "\n",
    "* What is **Software Testing**? \n",
    "\n",
    "  It is a technique to find bugs in software.\n",
    "  <br><br>\n",
    "       \n",
    "* What is a **Software Test**? \n",
    "\n",
    "  A test is a set of inputs and steps to check if expected and observed behaviors of the software match.\n",
    "  <br><br>\n",
    "\n",
    "* What is a Software **Bug**? \n",
    "\n",
    "  A bug is a violation of the Software (as reflected in code) to fulfill its corresponding (most often undocumented) specification. For example, consider that a function \"add(x,y)\" should compute the sum of two integers (the specification), but instead of returning x+y (which is obvious from the spec *in this case*), the developer made a mistake and returned x-y instead (the implementation). The function call will return the incorrect result.\n",
    "  <br><br>\n",
    "\n",
    "* What is a **Fault**? \n",
    "\n",
    "  A fault is the dynamic counterpart of a bug, which lives in code (static part). A fault exists in program states constructed when execution exercises a bug in code. \n",
    "  <br><br>\n",
    "\n",
    "* What is a **Failure**? \n",
    "\n",
    "  A failure is the observation of the fault. Unless there are checks, either manual or automated, a fault may never be observed.\n",
    "  <br><br>\n",
    "\n",
    "* What is the difference between **Testing and Debugging**? \n",
    "\n",
    "  Debugging is dual to Testing. Software Testing reveals bugs; it does **not** localize those bugs. Software Debugging is the task of locating those bugs. \n",
    "  <br>"
   ]
  },
  {
   "cell_type": "code",
   "execution_count": 2,
   "metadata": {},
   "outputs": [
    {
     "data": {
      "image/jpeg": "[encoded data removed]",
      "text/html": [
       "\n",
       "        <iframe\n",
       "            width=\"400\"\n",
       "            height=\"300\"\n",
       "            src=\"https://www.youtube.com/embed/asTIVibAjEk\"\n",
       "            frameborder=\"0\"\n",
       "            allowfullscreen\n",
       "        ></iframe>\n",
       "        "
      ],
      "text/plain": [
       "<IPython.lib.display.YouTubeVideo at 0x7f2128358f90>"
      ]
     },
     "execution_count": 2,
     "metadata": {},
     "output_type": "execute_result"
    }
   ],
   "source": [
    "from IPython.display import YouTubeVideo\n",
    "\n",
    "YouTubeVideo('asTIVibAjEk')"
   ]
  },
  {
   "cell_type": "code",
   "execution_count": null,
   "metadata": {},
   "outputs": [],
   "source": []
  },
  {
   "cell_type": "code",
   "execution_count": null,
   "metadata": {},
   "outputs": [],
   "source": []
  }
 ],
 "metadata": {
  "kernelspec": {
   "display_name": "Python 3",
   "language": "python",
   "name": "python3"
  },
  "language_info": {
   "codemirror_mode": {
    "name": "ipython",
    "version": 3
   },
   "file_extension": ".py",
   "mimetype": "text/x-python",
   "name": "python",
   "nbconvert_exporter": "python",
   "pygments_lexer": "ipython3",
   "version": "3.7.7"
  }
 },
 "nbformat": 4,
 "nbformat_minor": 4
}
