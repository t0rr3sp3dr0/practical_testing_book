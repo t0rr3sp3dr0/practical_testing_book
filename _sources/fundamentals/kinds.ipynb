{
 "cells": [
  {
   "cell_type": "markdown",
   "metadata": {},
   "source": [
    "The Different Dimensions of Testing\n",
    "===================================\n",
    "\n",
    "Tests can be categorized in different dimensions.\n",
    "\n",
    "* Based on the artifact being tested (Test granularity)\n",
    "\n",
    "  A test can focus on *units* (e.g., function, class, file), the *integration* of those units, or the entire *system*. The following chapter elaborates on each of those kinds of tests. The general wisdom is that (1) it is hard to build correct systems from broken units and that (2) writing unit tests is cheaper than writing integration and system tests. For those reasons, the \"Testing pyramid\" principle says that unit tests should be more common (in number) compared to integration tests, which should be more common compared to system tests. [Mauricio Aniche](https://www.mauricioaniche.com/) explains the Testing pyramid in this video:\n",
    "  "
   ]
  },
  {
   "cell_type": "code",
   "execution_count": 4,
   "metadata": {},
   "outputs": [
    {
     "data": {
      "image/jpeg": "[encoded data removed]",
      "text/html": [
       "\n",
       "        <iframe\n",
       "            width=\"400\"\n",
       "            height=\"300\"\n",
       "            src=\"https://www.youtube.com/embed/YpKxAicxasU\"\n",
       "            frameborder=\"0\"\n",
       "            allowfullscreen\n",
       "        ></iframe>\n",
       "        "
      ],
      "text/plain": [
       "<IPython.lib.display.YouTubeVideo at 0x7f5fa5f63b50>"
      ]
     },
     "execution_count": 4,
     "metadata": {},
     "output_type": "execute_result"
    }
   ],
   "source": [
    "from IPython.display import YouTubeVideo\n",
    "\n",
    "YouTubeVideo('YpKxAicxasU')"
   ]
  },
  {
   "cell_type": "markdown",
   "metadata": {},
   "source": [
    "* Based on the aspect being tested\n",
    "\n",
    "  A test can focus on functional correctness (*functional testing*), on performance (*performance testing*), on the ability to tolerate load (*load testing*), on how safe is the application to malicious attacks (*security testing*), on how easy it is to use (*usability testing*), etc."
   ]
  }
 ],
 "metadata": {
  "kernelspec": {
   "display_name": "Python 3",
   "language": "python",
   "name": "python3"
  },
  "language_info": {
   "codemirror_mode": {
    "name": "ipython",
    "version": 3
   },
   "file_extension": ".py",
   "mimetype": "text/x-python",
   "name": "python",
   "nbconvert_exporter": "python",
   "pygments_lexer": "ipython3",
   "version": "3.7.7"
  }
 },
 "nbformat": 4,
 "nbformat_minor": 4
}
