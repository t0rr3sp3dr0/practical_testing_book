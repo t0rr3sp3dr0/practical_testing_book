{
  "nbformat": 4,
  "nbformat_minor": 0,
  "metadata": {
    "colab": {
      "name": "examples_assets_functions.ipynb",
      "provenance": [],
      "collapsed_sections": [],
      "toc_visible": true
    },
    "kernelspec": {
      "name": "python3",
      "display_name": "Python 3"
    }
  },
  "cells": [
    {
      "cell_type": "markdown",
      "metadata": {
        "colab_type": "text",
        "id": "ZvQ5ly1XUYej"
      },
      "source": [
        "# Examples Asserts Functions"
      ]
    },
    {
      "cell_type": "markdown",
      "metadata": {
        "colab_type": "text",
        "id": "VbYtxZ8fWwCL"
      },
      "source": [
        "### We elaborate some simple examples of the most used Assert functions"
      ]
    },
    {
      "cell_type": "code",
      "execution_count": 2,
      "metadata": {
        "colab": {},
        "colab_type": "code",
        "id": "9dzpNQXFWPGX"
      },
      "outputs": [],
      "source": [
        "# importing the framework\n",
        "import unittest"
      ]
    },
    {
      "cell_type": "markdown",
      "metadata": {
        "colab_type": "text",
        "id": "U9g619vMW-7v"
      },
      "source": [
        "Note: the results for the run tests are displayed in the first line: the ‘.’ means the test has passed. ‘F’ means the test failed and the ‘s’ the test was skipped. Enjoy!"
      ]
    },
    {
      "cell_type": "markdown",
      "metadata": {
        "colab_type": "text",
        "id": "MJT9iFL9vA9s"
      },
      "source": [
        "### assertEqual(a,b)\n",
        "This function will test if two values are equal, otherwise the test case will fail\n",
        "\n",
        "Example:"
      ]
    },
    {
      "cell_type": "code",
      "execution_count": 15,
      "metadata": {
        "colab": {
          "base_uri": "https://localhost:8080/",
          "height": 115
        },
        "colab_type": "code",
        "id": "gHvhbrT5vpfp",
        "outputId": "5601e062-9c2c-438c-ac64-6a9c4170b462"
      },
      "outputs": [
        {
          "name": "stderr",
          "output_type": "stream",
          "text": [
            ".\n",
            "----------------------------------------------------------------------\n",
            "Ran 1 test in 0.001s\n",
            "\n",
            "OK\n"
          ]
        },
        {
          "data": {
            "text/plain": [
              "<unittest.main.TestProgram at 0x7f43c4f96048>"
            ]
          },
          "execution_count": 15,
          "metadata": {
            "tags": []
          },
          "output_type": "execute_result"
        }
      ],
      "source": [
        "class TestCaseExamples(unittest.TestCase):\n",
        "  def test_ex1(self): \n",
        "    self.assertEqual('Software'.upper(), 'SOFTWARE')\n",
        "\n",
        "unittest.main(argv=[''], exit=False) # run the tests in jupyter notebook"
      ]
    },
    {
      "cell_type": "markdown",
      "metadata": {
        "colab_type": "text",
        "id": "rmkfqAYaw0Bh"
      },
      "source": [
        "The a.upper () function is used to capitalize the letters of a string, that is, \"Test\" .upper () will result in \"TEST\".\n",
        "\n",
        "In the example above, we are comparing whether the word “Software” applying the upper () function is equal to “SOFTWARE”. And it is, soon the test case will pass."
      ]
    },
    {
      "cell_type": "markdown",
      "metadata": {
        "colab_type": "text",
        "id": "Bnl-qFQvxG6f"
      },
      "source": [
        "### assertNotEqual\n",
        "This function deals with the opposite case of assertEquals, that is, checking if two variables are not the same, if it is the test case it will fail.\n",
        "\n",
        "Example:"
      ]
    },
    {
      "cell_type": "code",
      "execution_count": 16,
      "metadata": {
        "colab": {
          "base_uri": "https://localhost:8080/",
          "height": 115
        },
        "colab_type": "code",
        "id": "3kfJm_f8xaNG",
        "outputId": "5b04f698-8a00-4b10-ffae-a1936d7cd30a"
      },
      "outputs": [
        {
          "name": "stderr",
          "output_type": "stream",
          "text": [
            ".\n",
            "----------------------------------------------------------------------\n",
            "Ran 1 test in 0.001s\n",
            "\n",
            "OK\n"
          ]
        },
        {
          "data": {
            "text/plain": [
              "<unittest.main.TestProgram at 0x7f43c4f96d68>"
            ]
          },
          "execution_count": 16,
          "metadata": {
            "tags": []
          },
          "output_type": "execute_result"
        }
      ],
      "source": [
        "class TestCaseExamples(unittest.TestCase):\n",
        "  def test_ex2(self): \n",
        "    a = 1 \n",
        "    b = 7\n",
        "    self.assertNotEqual(a, b)\n",
        "\n",
        "unittest.main(argv=[''], exit=False)"
      ]
    },
    {
      "cell_type": "markdown",
      "metadata": {
        "colab_type": "text",
        "id": "borMzlaTxblK"
      },
      "source": [
        "This test case will create the variables ‘a’ and ‘b’ and will verify that their values do not match. We assign the value ‘1’ to ‘a’ and ‘7’ to ‘b’, so as the values are different the test will pass."
      ]
    },
    {
      "cell_type": "markdown",
      "metadata": {
        "colab_type": "text",
        "id": "hQO0RHNWyQXv"
      },
      "source": [
        "### assertTrue(a) and assertFalse(a)\n",
        "These functions will check whether a variable or expression is true or false.\n",
        "\n",
        "Example:"
      ]
    },
    {
      "cell_type": "code",
      "execution_count": 17,
      "metadata": {
        "colab": {
          "base_uri": "https://localhost:8080/",
          "height": 115
        },
        "colab_type": "code",
        "id": "Knfu2rCXzEPu",
        "outputId": "112191c8-db08-4555-eee2-1eb950bf9ddb"
      },
      "outputs": [
        {
          "name": "stderr",
          "output_type": "stream",
          "text": [
            ".\n",
            "----------------------------------------------------------------------\n",
            "Ran 1 test in 0.001s\n",
            "\n",
            "OK\n"
          ]
        },
        {
          "data": {
            "text/plain": [
              "<unittest.main.TestProgram at 0x7f43c4f8fa20>"
            ]
          },
          "execution_count": 17,
          "metadata": {
            "tags": []
          },
          "output_type": "execute_result"
        }
      ],
      "source": [
        "class TestCaseExamples(unittest.TestCase):\n",
        "  def test_ex3(self):\n",
        "    a = (3 + 3) < (3 + 2)\n",
        "    self.assertFalse(a)\n",
        "\n",
        "\n",
        "unittest.main(argv=[''], exit=False)"
      ]
    },
    {
      "cell_type": "markdown",
      "metadata": {
        "colab_type": "text",
        "id": "fIGi43aFzFwG"
      },
      "source": [
        "This example will return success because the expression of the variable 'a' will return false when calculating the expression."
      ]
    },
    {
      "cell_type": "markdown",
      "metadata": {
        "colab_type": "text",
        "id": "9FArHRLK1Zmn"
      },
      "source": [
        "### assertions(a, b) and assertIsNot(a, b)\n",
        "Check whether the first and second values are instances of the same variable or not.\n",
        "\n",
        "Example:"
      ]
    },
    {
      "cell_type": "code",
      "execution_count": 18,
      "metadata": {
        "colab": {
          "base_uri": "https://localhost:8080/",
          "height": 245
        },
        "colab_type": "code",
        "id": "-7zeVFc80crN",
        "outputId": "14097c23-c7f9-46c1-d80a-7f7a54c27dc7"
      },
      "outputs": [
        {
          "name": "stderr",
          "output_type": "stream",
          "text": [
            ".F\n",
            "======================================================================\n",
            "FAIL: test_ex5 (__main__.TestCaseExamples)\n",
            "----------------------------------------------------------------------\n",
            "Traceback (most recent call last):\n",
            "  File \"<ipython-input-18-09c17c1b8a42>\", line 11, in test_ex5\n",
            "    self.assertIs(a, b)\n",
            "AssertionError: 2 is not 125\n",
            "\n",
            "----------------------------------------------------------------------\n",
            "Ran 2 tests in 0.002s\n",
            "\n",
            "FAILED (failures=1)\n"
          ]
        },
        {
          "data": {
            "text/plain": [
              "<unittest.main.TestProgram at 0x7f43c4f47518>"
            ]
          },
          "execution_count": 18,
          "metadata": {
            "tags": []
          },
          "output_type": "execute_result"
        }
      ],
      "source": [
        "class TestCaseExamples(unittest.TestCase):\n",
        "\n",
        "  def test_ex4(self):\n",
        "    a = 2\n",
        "    b = a\n",
        "    self.assertIs(a, b)\n",
        "        \n",
        "  def test_ex5(self):\n",
        "    a = 2\n",
        "    b = a + 123\n",
        "    self.assertIs(a, b)\n",
        "\n",
        "unittest.main(argv=[''], exit=False)"
      ]
    },
    {
      "cell_type": "markdown",
      "metadata": {
        "colab_type": "text",
        "id": "owFKDzgK0mPz"
      },
      "source": [
        "For this example, the test case “test_ex4” will pass because ‘b’ is an instance of ‘a’. In the case “test_ex5” it will fail, due to the sum operation made with ‘a’, ’b’ it will no longer be an instance of ‘a’.\n"
      ]
    },
    {
      "cell_type": "markdown",
      "metadata": {
        "colab_type": "text",
        "id": "-QaRqzG009do"
      },
      "source": [
        "### assertIsNone(a) and assertIsNotNone(a)\n",
        "It will check if \"a\" is None.\n",
        "\n",
        "Example:"
      ]
    },
    {
      "cell_type": "code",
      "execution_count": 19,
      "metadata": {
        "colab": {
          "base_uri": "https://localhost:8080/",
          "height": 245
        },
        "colab_type": "code",
        "id": "tFfDcbNg2OiC",
        "outputId": "20402328-141a-4ce8-e427-af9e8af6f5c6"
      },
      "outputs": [
        {
          "name": "stderr",
          "output_type": "stream",
          "text": [
            "F\n",
            "======================================================================\n",
            "FAIL: test_ex6 (__main__.TestCaseExamples)\n",
            "----------------------------------------------------------------------\n",
            "Traceback (most recent call last):\n",
            "  File \"<ipython-input-19-5510a0fefdfd>\", line 5, in test_ex6\n",
            "    self.assertIsNone(a)\n",
            "AssertionError: 'test' is not None\n",
            "\n",
            "----------------------------------------------------------------------\n",
            "Ran 1 test in 0.002s\n",
            "\n",
            "FAILED (failures=1)\n"
          ]
        },
        {
          "data": {
            "text/plain": [
              "<unittest.main.TestProgram at 0x7f43c4f476a0>"
            ]
          },
          "execution_count": 19,
          "metadata": {
            "tags": []
          },
          "output_type": "execute_result"
        }
      ],
      "source": [
        "class TestCaseExamples(unittest.TestCase):\n",
        "\n",
        "  def test_ex6(self):\n",
        "    a = 'test'\n",
        "    self.assertIsNone(a)\n",
        "\n",
        "unittest.main(argv=[''], exit=False)"
      ]
    },
    {
      "cell_type": "markdown",
      "metadata": {
        "colab_type": "text",
        "id": "LvYtGnjj2Q1E"
      },
      "source": [
        "In this example, it will be checked if it stores an undefined value, that is, “None”. But this test case will fail because it has a stored value"
      ]
    },
    {
      "cell_type": "markdown",
      "metadata": {
        "colab_type": "text",
        "id": "Z2BB0_-J2Ynv"
      },
      "source": [
        "### assertIn(a, b) and assertNotIn(a, b)\n",
        "These functions will check whether the value of a is contained or not b, that is, check whether or not a is in b, which can be some structure as an array or even an object.\n",
        "\n",
        "Example:"
      ]
    },
    {
      "cell_type": "code",
      "execution_count": 20,
      "metadata": {
        "colab": {
          "base_uri": "https://localhost:8080/",
          "height": 115
        },
        "colab_type": "code",
        "id": "-z7WVDxd2kWz",
        "outputId": "ca50ed2a-34dc-4f1f-977a-00f72dd4794d"
      },
      "outputs": [
        {
          "name": "stderr",
          "output_type": "stream",
          "text": [
            ".\n",
            "----------------------------------------------------------------------\n",
            "Ran 1 test in 0.002s\n",
            "\n",
            "OK\n"
          ]
        },
        {
          "data": {
            "text/plain": [
              "<unittest.main.TestProgram at 0x7f43c5836630>"
            ]
          },
          "execution_count": 20,
          "metadata": {
            "tags": []
          },
          "output_type": "execute_result"
        }
      ],
      "source": [
        "class TestCaseExamples(unittest.TestCase):\n",
        "\n",
        "\tdef test_ex7(self):\n",
        "\t\ta = 2\n",
        "\t\tb = {1, 2, 3}\n",
        "\t\tself.assertIn(a, b)\n",
        "\n",
        "unittest.main(argv=[''], exit=False)"
      ]
    },
    {
      "cell_type": "markdown",
      "metadata": {
        "colab_type": "text",
        "id": "phd3GWrw2zT5"
      },
      "source": [
        "In this example the test case will pass, since the value of 'a' is 2 and is present within the array stored in 'b'."
      ]
    },
    {
      "cell_type": "markdown",
      "metadata": {
        "colab_type": "text",
        "id": "xwI3Quug270R"
      },
      "source": [
        "### assertAlmostEqual(a, b, c) and assertNotAlmostEqual(a, b, c)\n",
        "These functions will check whether ‘a’ and ‘b’ have a difference of up to ‘c’.\n",
        "\n",
        "Example:"
      ]
    },
    {
      "cell_type": "code",
      "execution_count": 21,
      "metadata": {
        "colab": {
          "base_uri": "https://localhost:8080/",
          "height": 115
        },
        "colab_type": "code",
        "id": "NrvmvaB83O1H",
        "outputId": "643a9ad0-070c-4d46-cdd2-ef2f16e98392"
      },
      "outputs": [
        {
          "name": "stderr",
          "output_type": "stream",
          "text": [
            ".\n",
            "----------------------------------------------------------------------\n",
            "Ran 1 test in 0.006s\n",
            "\n",
            "OK\n"
          ]
        },
        {
          "data": {
            "text/plain": [
              "<unittest.main.TestProgram at 0x7f43c4f53358>"
            ]
          },
          "execution_count": 21,
          "metadata": {
            "tags": []
          },
          "output_type": "execute_result"
        }
      ],
      "source": [
        "class TestCaseExamples(unittest.TestCase):\n",
        "\n",
        "  def test_ex8(self):\n",
        "    a = 5\n",
        "    b = 10\n",
        "    c = 4\n",
        "    self.assertNotAlmostEqual(a, b, c)\n",
        "\n",
        "unittest.main(argv=[''], exit=False)"
      ]
    },
    {
      "cell_type": "markdown",
      "metadata": {
        "colab_type": "text",
        "id": "kMbykltR3b-M"
      },
      "source": [
        "For this example the test case will fail, because 'a' has a value of 5 and 'c' has a value of 4, if 'b' is greater than or equal to 1 or greater than or equal to 9, the test case will pass, however, 'b' has a value of 10, which does not meet the function, so the test case will fail."
      ]
    },
    {
      "cell_type": "markdown",
      "metadata": {
        "colab_type": "text",
        "id": "H0jY5W2H5dhE"
      },
      "source": [
        "### assertGreater(a, b) and assertLess(a, b)\n",
        "These functions will check if one element is greater or less than the other, assertGreater (a, b) will check if 'a' is greater than 'b', while assertLess (a, b) will check for 'a' is less than 'b'.\n",
        "\n",
        "Example:"
      ]
    },
    {
      "cell_type": "code",
      "execution_count": 22,
      "metadata": {
        "colab": {
          "base_uri": "https://localhost:8080/",
          "height": 245
        },
        "colab_type": "code",
        "id": "5T3_mkXA58T0",
        "outputId": "21b453ef-d17d-4273-a9a0-54b53d999780"
      },
      "outputs": [
        {
          "name": "stderr",
          "output_type": "stream",
          "text": [
            "F\n",
            "======================================================================\n",
            "FAIL: test_ex9 (__main__.TestCaseExamples)\n",
            "----------------------------------------------------------------------\n",
            "Traceback (most recent call last):\n",
            "  File \"<ipython-input-22-3ce14a65703c>\", line 6, in test_ex9\n",
            "    self.assertGreater(a, b)\n",
            "AssertionError: 5 not greater than 10\n",
            "\n",
            "----------------------------------------------------------------------\n",
            "Ran 1 test in 0.003s\n",
            "\n",
            "FAILED (failures=1)\n"
          ]
        },
        {
          "data": {
            "text/plain": [
              "<unittest.main.TestProgram at 0x7f43c4f8f080>"
            ]
          },
          "execution_count": 22,
          "metadata": {
            "tags": []
          },
          "output_type": "execute_result"
        }
      ],
      "source": [
        "class TestCaseExamples(unittest.TestCase):\n",
        "\n",
        "\tdef test_ex9(self):\n",
        "\t\ta = 5\n",
        "\t\tb = 10\n",
        "\t\tself.assertGreater(a, b)\n",
        "\n",
        "unittest.main(argv=[''], exit=False)"
      ]
    },
    {
      "cell_type": "markdown",
      "metadata": {
        "colab_type": "text",
        "id": "JCjN_FUb6G8V"
      },
      "source": [
        "This example will check if 'a' is greater than 'b', but as 'a' has a value of 5 and 'b' has a value of 10, it is noticed that 5 is not greater than 10, so the test case will fail ."
      ]
    },
    {
      "cell_type": "markdown",
      "metadata": {
        "colab_type": "text",
        "id": "gcEKeFVL6Tzr"
      },
      "source": [
        "### assertGreaterEqual(a, b) and assertLessEqual(a, b)\n",
        "These functions are similar to the assertGreater (a, b) assertLess (a, b) functions seen above. They check whether an element is greater than or equal to or less than or equal to the other. AssertGreaterEqual (a, b) will check whether 'a' is greater than or equal to 'b', while assertLessEqual (a, b) will check whether 'a' is less than or equal to 'b'.\n",
        "\n",
        "Example:"
      ]
    },
    {
      "cell_type": "code",
      "execution_count": 23,
      "metadata": {
        "colab": {
          "base_uri": "https://localhost:8080/",
          "height": 115
        },
        "colab_type": "code",
        "id": "stBvzPfJ66rf",
        "outputId": "c1a43547-e815-4d6a-99e9-9d600ab447e5"
      },
      "outputs": [
        {
          "name": "stderr",
          "output_type": "stream",
          "text": [
            ".\n",
            "----------------------------------------------------------------------\n",
            "Ran 1 test in 0.001s\n",
            "\n",
            "OK\n"
          ]
        },
        {
          "data": {
            "text/plain": [
              "<unittest.main.TestProgram at 0x7f43c4f53898>"
            ]
          },
          "execution_count": 23,
          "metadata": {
            "tags": []
          },
          "output_type": "execute_result"
        }
      ],
      "source": [
        "class TestCaseExamples(unittest.TestCase):\n",
        "\n",
        "  def test_ex10(self):\n",
        "    a = 10\n",
        "    b = 10\n",
        "    c = 5\n",
        "    self.assertGreaterEqual(a, b)\n",
        "    self.assertGreaterEqual(a, c)\n",
        "\n",
        "unittest.main(argv=[''], exit=False)"
      ]
    },
    {
      "cell_type": "markdown",
      "metadata": {
        "colab_type": "text",
        "id": "FasMTAsV7NQQ"
      },
      "source": [
        "This test case will do two checks and knowing that 'a' has a value of 10, 'b' has a value of 10 and 'c' has a value of 5, the first check will pass because 'a' equals 'b' and the second also will pass, because 'a' is greater than 'c'."
      ]
    },
    {
      "cell_type": "markdown",
      "metadata": {
        "colab_type": "text",
        "id": "L80pME3B7WK6"
      },
      "source": [
        "Unittest has several other assertive functions, You can find them in the [documentation](https://docs.python.org/3/library/unittest.html)."
      ]
    }
  ]
}