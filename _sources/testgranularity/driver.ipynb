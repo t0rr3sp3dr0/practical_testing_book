{
 "cells": [
  {
   "cell_type": "markdown",
   "metadata": {},
   "source": [
    "# A Driver example with Python"
   ]
  },
  {
   "cell_type": "markdown",
   "metadata": {},
   "source": [
    "First we implement a common interface which has a contract of how we are going to call the lower modules under construction"
   ]
  },
  {
   "cell_type": "code",
   "execution_count": 1,
   "metadata": {},
   "outputs": [],
   "source": [
    "class ControllerInterface():\n",
    "    def __init__(self, mailer):\n",
    "        raise NotImplementedError\n",
    "\n",
    "    def call_mailer(self, data):\n",
    "        raise NotImplementedError"
   ]
  },
  {
   "cell_type": "markdown",
   "metadata": {},
   "source": [
    "Then we need to implement this interface with a dummy object just to pass our current module as its dependency so we are able to test the controller calling for mailer"
   ]
  },
  {
   "cell_type": "code",
   "execution_count": 2,
   "metadata": {},
   "outputs": [],
   "source": [
    "class DummyController(ControllerInterface):\n",
    "    def __init__(self, mailer):\n",
    "        self.mailer = mailer\n",
    "        \n",
    "    def call_mailer(self, data):\n",
    "        self.mailer.send(data)"
   ]
  },
  {
   "cell_type": "markdown",
   "metadata": {},
   "source": [
    "After this we must test if calling the DummyController will invoke the mailer with the correct args and to do so we must define a mailer for now and we are able to use the patch object from the unittest.mock library to check if a function was called correctly"
   ]
  },
  {
   "cell_type": "code",
   "execution_count": 3,
   "metadata": {},
   "outputs": [],
   "source": [
    "class Mailer():\n",
    "    def send(self, data):\n",
    "        pass"
   ]
  },
  {
   "cell_type": "code",
   "execution_count": 4,
   "metadata": {},
   "outputs": [],
   "source": [
    "from unittest.mock import patch"
   ]
  },
  {
   "cell_type": "markdown",
   "metadata": {},
   "source": [
    "We are able to check if a function was called with certain arguments by using `assert_called_with`"
   ]
  },
  {
   "cell_type": "code",
   "execution_count": 5,
   "metadata": {},
   "outputs": [],
   "source": [
    "@patch.object(Mailer, 'send')\n",
    "def test_controller(mock_send):\n",
    "    controller = DummyController(Mailer())\n",
    "    data = {}\n",
    "    controller.call_mailer(data)\n",
    "    mock_send.assert_called_with(data)"
   ]
  },
  {
   "cell_type": "code",
   "execution_count": 6,
   "metadata": {},
   "outputs": [],
   "source": [
    "test_controller()"
   ]
  }
 ],
 "metadata": {
  "kernelspec": {
   "display_name": "Python 3",
   "language": "python",
   "name": "python3"
  },
  "language_info": {
   "codemirror_mode": {
    "name": "ipython",
    "version": 3
   },
   "file_extension": ".py",
   "mimetype": "text/x-python",
   "name": "python",
   "nbconvert_exporter": "python",
   "pygments_lexer": "ipython3",
   "version": "3.7.7"
  }
 },
 "nbformat": 4,
 "nbformat_minor": 4
}
