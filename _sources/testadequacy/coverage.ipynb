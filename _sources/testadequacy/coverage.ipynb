{
 "cells": [
  {
   "cell_type": "markdown",
   "metadata": {},
   "source": [
    "# Structural Testing"
   ]
  },
  {
   "cell_type": "markdown",
   "metadata": {},
   "source": [
    "Structural testing is an approach to assess the quality of suite testing of program structures. There are many kinds, in this notebook, show only one, for more, see the references.\n",
    "\n",
    "* Statement coverage – Is a metric, which is used to calculate and measure the number of statements in the source code which have been covered.\n",
    "* Branch coverage – Measures whether all possible ramifications of each decision condition have been executed at least once.\n",
    "* Path coverage – Refers to measure whether all linearly independent paths in the program are executed at least once, paths are executable statements from entry to exit points."
   ]
  },
  {
   "cell_type": "markdown",
   "metadata": {},
   "source": [
    "## Hands On: Statement coverage with coverage.py"
   ]
  },
  {
   "cell_type": "markdown",
   "metadata": {},
   "source": [
    "The term **coverage** in programming is typically used to describe the effectiveness of your tests and how much of your code is actually covered by tests."
   ]
  },
  {
   "cell_type": "code",
   "execution_count": 1,
   "metadata": {},
   "outputs": [],
   "source": [
    "from IPython.display import YouTubeVideo"
   ]
  },
  {
   "cell_type": "code",
   "execution_count": 2,
   "metadata": {
    "scrolled": false
   },
   "outputs": [
    {
     "data": {
      "image/jpeg": "[encoded data removed]",
      "text/html": [
       "\n",
       "        <iframe\n",
       "            width=\"400\"\n",
       "            height=\"300\"\n",
       "            src=\"https://www.youtube.com/embed/dwG656XIa40\"\n",
       "            frameborder=\"0\"\n",
       "            allowfullscreen\n",
       "        ></iframe>\n",
       "        "
      ],
      "text/plain": [
       "<IPython.lib.display.YouTubeVideo at 0x7f3e022a4b90>"
      ]
     },
     "execution_count": 2,
     "metadata": {},
     "output_type": "execute_result"
    }
   ],
   "source": [
    "YouTubeVideo('dwG656XIa40')"
   ]
  },
  {
   "cell_type": "markdown",
   "metadata": {},
   "source": [
    "## Installing the package coverage in this notebook."
   ]
  },
  {
   "cell_type": "code",
   "execution_count": 3,
   "metadata": {},
   "outputs": [],
   "source": [
    "%%capture\n",
    "\n",
    "import sys\n",
    "!conda install --yes --prefix {sys.prefix} coverage\n",
    "!conda update --yes -n base conda"
   ]
  },
  {
   "cell_type": "markdown",
   "metadata": {},
   "source": [
    "`%%capture` is used to hide the cell output."
   ]
  },
  {
   "cell_type": "markdown",
   "metadata": {},
   "source": [
    "## Creating the files."
   ]
  },
  {
   "cell_type": "markdown",
   "metadata": {},
   "source": [
    "Creating a file called area.py:\n"
   ]
  },
  {
   "cell_type": "code",
   "execution_count": 4,
   "metadata": {},
   "outputs": [
    {
     "name": "stdout",
     "output_type": "stream",
     "text": [
      "Writing area.py\n"
     ]
    }
   ],
   "source": [
    "%%writefile area.py\n",
    "\n",
    "#area.py\n",
    "from math import pi\n",
    "\n",
    "def circle_area(r):\n",
    "    if type(r) not in [int, float]:\n",
    "        raise TypeError(\"The radius must be a non-negative real number.\")\n",
    "    if r < 0:\n",
    "        raise ValueError(\"The radius must not be negative.\")\n",
    "    return pi*(r**2)"
   ]
  },
  {
   "cell_type": "markdown",
   "metadata": {},
   "source": [
    "Creating a test file called tests1.py:"
   ]
  },
  {
   "cell_type": "code",
   "execution_count": 20,
   "metadata": {},
   "outputs": [
    {
     "name": "stdout",
     "output_type": "stream",
     "text": [
      "Writing tests.py\n"
     ]
    }
   ],
   "source": [
    "%%writefile tests.py\n",
    "\n",
    "#tests.py\n",
    "from math import pi\n",
    "import unittest\n",
    "from area import *\n",
    "\n",
    "class TestCircleArea(unittest.TestCase): \n",
    "    def test_area(self):\n",
    "        #Test area when radius >= 0\n",
    "        self.assertAlmostEqual(circle_area(1), pi)\n",
    "\n",
    "    def test_values(self):\n",
    "        #Make sure value errors are raised when necessary\n",
    "        self.assertRaises(ValueError, circle_area, -2)"
   ]
  },
  {
   "cell_type": "markdown",
   "metadata": {},
   "source": [
    "## Coverage commands."
   ]
  },
  {
   "cell_type": "code",
   "execution_count": 21,
   "metadata": {},
   "outputs": [
    {
     "name": "stdout",
     "output_type": "stream",
     "text": [
      "..\r\n",
      "----------------------------------------------------------------------\r\n",
      "Ran 2 tests in 0.000s\r\n",
      "\r\n",
      "OK\r\n"
     ]
    }
   ],
   "source": [
    "!coverage run -m unittest tests"
   ]
  },
  {
   "cell_type": "code",
   "execution_count": 22,
   "metadata": {},
   "outputs": [
    {
     "name": "stdout",
     "output_type": "stream",
     "text": [
      "Name       Stmts   Miss  Cover   Missing\r\n",
      "----------------------------------------\r\n",
      "area.py        7      1    86%   7\r\n",
      "tests.py       8      0   100%\r\n",
      "----------------------------------------\r\n",
      "TOTAL         15      1    93%\r\n"
     ]
    }
   ],
   "source": [
    "!coverage report -m"
   ]
  },
  {
   "cell_type": "markdown",
   "metadata": {},
   "source": [
    "## Exercise\n",
    "\n",
    "Change the code above (tests.py) to guarantee 100% coverage and run the coverage commands again. Click on the menu and on binder or colab to run this notebook."
   ]
  },
  {
   "cell_type": "markdown",
   "metadata": {},
   "source": [
    "## Running in your computer.\n",
    "\n",
    "You need to install coverage.py, the simplest way is with pip:\n",
    "\n",
    "```\n",
    "pip install coverage\n",
    "```\n",
    "\n",
    "Create a file to coverage called area.py.\n",
    "\n",
    "Create a tests file called tests.py.\n",
    "\n",
    "Run the following command using command line:\n",
    "\n",
    "\n",
    "```\n",
    "coverage run -m unittest tests\n",
    "```\n",
    "\n",
    "To see the coverage, run the following command:\n",
    "    \n",
    "```\n",
    "coverage report -m\n",
    "```\n",
    "\n",
    "It is possible to create files that show which parts were covered using html pages. Run the following command:\n",
    "\n",
    "```\n",
    "coverage html\n",
    "```\n",
    "\n",
    "Open the generated file on the **path**: **/htmlcov/index.html**\n",
    "\n",
    "<img src=\"https://i.ibb.co/3N38ngJ/coverage.png\" class=\"center\"/>\n",
    "\n",
    "Clicking on the area.py file in the index.html page, you will see which lines have been covered, as shown on the picture below.\n",
    "\n",
    "\n",
    "<img src=\"https://i.ibb.co/R7Wq1YJ/area.png\" class=\"center\"/>\n",
    "\n",
    "\n",
    "\n",
    "Where:\n",
    "\n",
    "**`[5 run]` - are the covered lines.**\n",
    "\n",
    "**`[2 missing]` - are the lines not covered.**\n",
    "\n",
    "**`[0 excluded]` - are the excluded lines.**"
   ]
  },
  {
   "cell_type": "markdown",
   "metadata": {},
   "source": [
    "### References\n",
    "\n",
    "* [What Is Structural Testing?](https://qa-platforms.com/what-is-structural-testing/)\n",
    "\n",
    "* [Code Coverage Tutorial](https://www.guru99.com/code-coverage.html)\n",
    "\n",
    "* [Improve Code Quality Using Test Coverage](https://www.codemag.com/Article/1701081/Improve-Code-Quality-Using-Test-Coverage)\n",
    "\n",
    "* [Coverage.py](https://coverage.readthedocs.io/en/coverage-5.2/)\n",
    "\n",
    "* [An Intro to coverage.py](https://www.blog.pythonlibrary.org/2016/07/20/an-intro-to-coverage-py/)"
   ]
  }
 ],
 "metadata": {
  "kernelspec": {
   "display_name": "Python 3",
   "language": "python",
   "name": "python3"
  },
  "language_info": {
   "codemirror_mode": {
    "name": "ipython",
    "version": 3
   },
   "file_extension": ".py",
   "mimetype": "text/x-python",
   "name": "python",
   "nbconvert_exporter": "python",
   "pygments_lexer": "ipython3",
   "version": "3.7.8"
  }
 },
 "nbformat": 4,
 "nbformat_minor": 4
}
