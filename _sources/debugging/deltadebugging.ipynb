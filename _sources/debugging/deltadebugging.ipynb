{
  "nbformat": 4,
  "nbformat_minor": 0,
  "metadata": {
    "colab": {
      "name": "Delta Debugging.ipynb",
      "provenance": [],
      "collapsed_sections": []
    },
    "kernelspec": {
      "name": "python3",
      "display_name": "Python 3"
    }
  },
  "cells": [
    {
      "cell_type": "markdown",
      "metadata": {
        "id": "-6Go_Yd_2yi8",
        "colab_type": "text"
      },
      "source": [
        "Hands On: Delta Debugging\n",
        "========================="
      ]
    },
    {
      "cell_type": "markdown",
      "metadata": {
        "id": "_F2Z9aKxNm8M",
        "colab_type": "text"
      },
      "source": [
        "Delta Debugging is a methodology that automates program debugging using a scientific approach of hypothesis-trial-result loop. It was created in 1999 when there were many open bugs in Mozilla's bug database. Each bug describes a scenario which caused software to fail. The bug reports could contain a lot of irrelevant information and many of them could be equivalent. It would be very helpful in finding the error if we could simplify the input and still generate the same failures. So we follow the general pattern to put Delta Debugging to work:\n",
        "\n",
        "\n",
        "1.   Identify the test case(s)\n",
        "\n",
        "1.   Identify the deltas.\n",
        "\n",
        "1.   Write a testing function.\n",
        "\n",
        "2.   Invoke Delta Debugging."
      ]
    },
    {
      "cell_type": "markdown",
      "metadata": {
        "id": "rriROrP4Uz0v",
        "colab_type": "text"
      },
      "source": [
        "## **1 - Identify the test case(s)**\n",
        "\n",
        "The first step in performing delta debugging needs to meet **2 prerequisites**:\n",
        "1. A test case where your program fails.\n",
        "1. A test case where this failure does not happen.\n",
        "\n",
        "Our main program fails to return a **NaN** we want to investigate why.\n",
        "\n",
        "So let's go to the example:"
      ]
    },
    {
      "cell_type": "code",
      "metadata": {
        "id": "uK6XMiCWaj8T",
        "colab_type": "code",
        "colab": {}
      },
      "source": [
        "from decimal import Decimal\n",
        "\n",
        "def functionA(): \n",
        "  return 1; \n",
        "def functionB(): \n",
        "  return 2; \n",
        "def functionC(): \n",
        "  return 3; \n",
        "def functionD():\n",
        "  return 4;\n",
        "def functionE():\n",
        "  return 5;\n",
        "def functionF():\n",
        "  return 6;\n",
        "def functionG(): \n",
        "  return Decimal('nan');\n",
        "\n",
        "def main(args):\n",
        "  if(len(args) == 0):\n",
        "    return 1;\n",
        "  else:\n",
        "    inc = 1;\n",
        "    for a in args:\n",
        "      inc*=a;\n",
        "    return inc;"
      ],
      "execution_count": null,
      "outputs": []
    },
    {
      "cell_type": "markdown",
      "metadata": {
        "id": "7zCGQr28axfo",
        "colab_type": "text"
      },
      "source": [
        "Our program consists of **7** small functions and a main function that receives a list of values ​​and makes an operation with them.\n",
        "\n",
        "So our 2 test cases are:\n",
        "1. Calling our main function with all the items on the list where we get a **NaN** return.\n",
        "1. Calling our main function with no item in the list, where it returns a valid value."
      ]
    },
    {
      "cell_type": "code",
      "metadata": {
        "id": "sdgpwNQYawel",
        "colab_type": "code",
        "colab": {
          "base_uri": "https://localhost:8080/",
          "height": 51
        },
        "outputId": "a54d7537-2483-40c9-f1ba-d84f7ad060f0"
      },
      "source": [
        "A = main([functionA(),functionB(),functionC(),functionD(),functionE(),functionF(),functionG()]);\n",
        "B = main([]);\n",
        "print(A);\n",
        "print(B);"
      ],
      "execution_count": null,
      "outputs": [
        {
          "output_type": "stream",
          "text": [
            "NaN\n",
            "1\n"
          ],
          "name": "stdout"
        }
      ]
    },
    {
      "cell_type": "markdown",
      "metadata": {
        "id": "QorN8T7MnoCv",
        "colab_type": "text"
      },
      "source": [
        "## **2 - Identify the deltas.**\n",
        "\n",
        "In this next step we must find a set of deltas, we must find the difference between the execution that fails and the execution without failure and from that difference divide it into small equal parts.\n",
        "\n",
        "For our example, the entry that runs successfully is an empty list, the entry that causes the execution to fail is the difference between the entries. So we can divide our entry that fails into small equal parts and we will do that by dividing our entry into **functions**."
      ]
    },
    {
      "cell_type": "markdown",
      "metadata": {
        "id": "TZNz-_8m0fD6",
        "colab_type": "text"
      },
      "source": [
        "## **3 - Write a testing function.**\n",
        "\n",
        "In this stage of the tests, we have a function that receives a list of deltas:\n",
        "1. Returns PASS if the result is a number. \n",
        "1. Returns FAIL if the result is not a number.\n",
        "\n",
        "In our case, deltas are our functions where we multiply the results and test the return."
      ]
    },
    {
      "cell_type": "code",
      "metadata": {
        "id": "7dNEmlYz2P7r",
        "colab_type": "code",
        "colab": {}
      },
      "source": [
        "def test(functions):\n",
        "  for i in list(range(0,len(functions))):\n",
        "    result = main(functions[0:i+1])\n",
        "    if(isinstance(result,int)):\n",
        "      print(\"PASS\");\n",
        "    else:\n",
        "      print(\"FAIL\");"
      ],
      "execution_count": null,
      "outputs": []
    },
    {
      "cell_type": "code",
      "metadata": {
        "id": "D5tUru7LISNw",
        "colab_type": "code",
        "colab": {
          "base_uri": "https://localhost:8080/",
          "height": 136
        },
        "outputId": "129741a0-f025-419a-870d-3f30fcf5b169"
      },
      "source": [
        "test([functionA(),functionB(),functionC(),functionD(),functionE(),functionF(),functionG()]);"
      ],
      "execution_count": null,
      "outputs": [
        {
          "output_type": "stream",
          "text": [
            "PASS\n",
            "PASS\n",
            "PASS\n",
            "PASS\n",
            "PASS\n",
            "PASS\n",
            "FAIL\n"
          ],
          "name": "stdout"
        }
      ]
    },
    {
      "cell_type": "markdown",
      "metadata": {
        "id": "BK6ShyYK2eSv",
        "colab_type": "text"
      },
      "source": [
        "## **4- Invoke Delta Debugging.**\n",
        "\n",
        "Now that we have the test function, in this step we really want to know which function is the problem with that we will run the delta debugging that will show us for all the inputs what are the results produced. Having this view of execution we can know which function is causing us a problem.\n",
        "\n",
        "To make our job easier, let's make a small change to our test function.\n",
        "\n",
        "We will create a dictionary, a python structure with key and value and within our test function we will save the entry of our main function as the key and as value the evaluation of our test function."
      ]
    },
    {
      "cell_type": "code",
      "metadata": {
        "id": "dB4ADStH-sdd",
        "colab_type": "code",
        "colab": {}
      },
      "source": [
        "Dict = {};\n",
        "\n",
        "def test(functions):\n",
        "  for i in list(range(0,len(functions))):\n",
        "    result = main(functions[0:i+1])\n",
        "    if(isinstance(result,int)):\n",
        "      Dict[tuple(functions[0:i+1])] = \"PASS\";\n",
        "    else:\n",
        "      Dict[tuple(functions[0:i+1])] = \"FAIL\";"
      ],
      "execution_count": null,
      "outputs": []
    },
    {
      "cell_type": "code",
      "metadata": {
        "id": "Un-Oxyix5ZLu",
        "colab_type": "code",
        "colab": {
          "base_uri": "https://localhost:8080/",
          "height": 136
        },
        "outputId": "49d3cf13-c5db-4a5d-a8b1-6845e28be94a"
      },
      "source": [
        "def deltaDebugging():\n",
        "  test([functionA(),functionB(),functionC(),functionD(),functionE(),functionF(),functionG()]);\n",
        "  for i in Dict:\n",
        "    print(str(Dict[i]),i);\n"
      ],
      "execution_count": null,
      "outputs": [
        {
          "output_type": "stream",
          "text": [
            "PASS (1,)\n",
            "PASS (1, 2)\n",
            "PASS (1, 2, 3)\n",
            "PASS (1, 2, 3, 4)\n",
            "PASS (1, 2, 3, 4, 5)\n",
            "PASS (1, 2, 3, 4, 5, 6)\n",
            "FAIL (1, 2, 3, 4, 5, 6, Decimal('NaN'))\n"
          ],
          "name": "stdout"
        }
      ]
    },
    {
      "cell_type": "markdown",
      "metadata": {
        "id": "VVDlvURfGdFQ",
        "colab_type": "text"
      },
      "source": [
        "So calling deltaDebuggig we have:\n"
      ]
    },
    {
      "cell_type": "code",
      "metadata": {
        "id": "beEkrTbEGj3L",
        "colab_type": "code",
        "colab": {
          "base_uri": "https://localhost:8080/",
          "height": 153
        },
        "outputId": "ff5745de-1c3b-47a5-887a-9b0c47eb1b72"
      },
      "source": [
        "deltaDebugging();"
      ],
      "execution_count": null,
      "outputs": [
        {
          "output_type": "stream",
          "text": [
            "PASS (1,)\n",
            "PASS (1, 2)\n",
            "PASS (1, 2, 3)\n",
            "PASS (1, 2, 3, 4)\n",
            "PASS (1, 2, 3, 4, 5)\n",
            "PASS (1, 2, 3, 4, 5, 6)\n",
            "FAIL (1, 2, 3, 4, 5, 6, Decimal('NaN'))\n",
            "FAIL (1, 2, 3, 4, 5, 6, Decimal('NaN'))\n"
          ],
          "name": "stdout"
        }
      ]
    },
    {
      "cell_type": "markdown",
      "metadata": {
        "id": "8wIVwvhfGl82",
        "colab_type": "text"
      },
      "source": [
        "Where, as a result, we can see what our main program has entered and what it has given us. With this, looking at the last line, it is clear that when we pass the G function to our main function, a failure results. With that the biggest entry we can have is:"
      ]
    },
    {
      "cell_type": "code",
      "metadata": {
        "id": "EqL9s14OHNEF",
        "colab_type": "code",
        "colab": {
          "base_uri": "https://localhost:8080/",
          "height": 34
        },
        "outputId": "6026e413-4b9e-4a99-a67e-c740b21a01e4"
      },
      "source": [
        "print(main([functionA(),functionB(),functionC(),functionD(),functionE(),functionF()]));"
      ],
      "execution_count": null,
      "outputs": [
        {
          "output_type": "stream",
          "text": [
            "720\n"
          ],
          "name": "stdout"
        }
      ]
    },
    {
      "cell_type": "markdown",
      "metadata": {
        "id": "I_4kPTbsyDuv",
        "colab_type": "text"
      },
      "source": [
        "## **Conclusion**\n",
        "\n",
        "We show here how the delta debugging methodology works with a simple example to make the explanation clearer and more practical, as delta debugging is a methodology it can be implemented in several ways, below we leave a reference with another implementation."
      ]
    },
    {
      "cell_type": "markdown",
      "metadata": {
        "id": "jDxWhT9x1ozI",
        "colab_type": "text"
      },
      "source": [
        "## **References**\n",
        "\n",
        "*   [Using DeltaDebugging](https://www.st.cs.uni-saarland.de/dd/ddusage.php3)\n",
        "\n",
        "\n",
        "\n"
      ]
    }
  ]
}