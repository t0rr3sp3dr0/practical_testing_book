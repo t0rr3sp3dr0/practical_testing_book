{
 "cells": [
  {
   "cell_type": "markdown",
   "metadata": {},
   "source": [
    "# Fuzzing\n",
    "Fuzzing is a software testing technique in which the goal is to automatically feed a given program with a sequence of randomly generated inputs in order to find errors or inadequate behaviors in its execution. The generation of inputs is made by a program called a Fuzzer, which usually strives to create data that is valid enough to be accepted by the test subject while also hitting some obscure edge-case the developers had never thought of. This technique is also very useful for discovering security vulnerabilities in a given system since the random inputs might trigger some exploitable behavior such as a buffer overflows or DoS. <br/>\n",
    "In the following short video we can see a bit more about the effectiveness of this technique and how it came to be."
   ]
  },
  {
   "cell_type": "code",
   "execution_count": 1,
   "metadata": {},
   "outputs": [
    {
     "data": {
      "image/jpeg": "[encoded data removed]",
      "text/html": [
       "\n",
       "        <iframe\n",
       "            width=\"400\"\n",
       "            height=\"300\"\n",
       "            src=\"https://www.youtube.com/embed/RqrHT93KdgE\"\n",
       "            frameborder=\"0\"\n",
       "            allowfullscreen\n",
       "        ></iframe>\n",
       "        "
      ],
      "text/plain": [
       "<IPython.lib.display.YouTubeVideo at 0x7fe04cbb4cd0>"
      ]
     },
     "execution_count": 1,
     "metadata": {},
     "output_type": "execute_result"
    }
   ],
   "source": [
    "from IPython.display import YouTubeVideo\n",
    "YouTubeVideo('RqrHT93KdgE')"
   ]
  },
  {
   "cell_type": "markdown",
   "metadata": {},
   "source": [
    "## Hands on with pythonfuzz\n",
    "The fuzzer known as [*pythonfuzz*](https://gitlab.com/gitlab-org/security-products/analyzers/fuzzers/pythonfuzz) is a simple yet powerful example of what a fuzzer can do. In essence, all it does is receive a function which will be called infinitely with different randomly generated inputs each time until it eventually finds an unexpected exception. <br/>\n",
    "First things first, let's install it:"
   ]
  },
  {
   "cell_type": "code",
   "execution_count": 2,
   "metadata": {},
   "outputs": [
    {
     "name": "stdout",
     "output_type": "stream",
     "text": [
      "Requirement already satisfied: pythonfuzz in /home/claudio/.local/lib/python3.8/site-packages (1.0.3)\n",
      "Requirement already satisfied: coverage==4.5.4 in /home/claudio/.local/lib/python3.8/site-packages (from pythonfuzz) (4.5.4)\n",
      "Requirement already satisfied: numpy==1.17.3 in /home/claudio/.local/lib/python3.8/site-packages (from pythonfuzz) (1.17.3)\n",
      "Requirement already satisfied: psutil==5.6.3 in /home/claudio/.local/lib/python3.8/site-packages (from pythonfuzz) (5.6.3)\n",
      "Note: you may need to restart the kernel to use updated packages.\n"
     ]
    }
   ],
   "source": [
    "pip install pythonfuzz"
   ]
  },
  {
   "cell_type": "markdown",
   "metadata": {},
   "source": [
    "### Defining a test subject\n",
    "For this example, let's test the parsing method in Python's built-in html module. <br/>\n",
    "In order for the test to work, we'll need to create a function that:\n",
    "1. Is annotated with the `@PythonFuzz` annotation in order to be ran in a loop and receive the randomized parameters.\n",
    "2. Receives an array of bytes as its only parameter and converts it to the format that the test subjects accepts as input.\n",
    "3. Calls the test subject with the converted input.\n",
    "4. Catches and ignores any expected exceptions that might appear in runtime."
   ]
  },
  {
   "cell_type": "markdown",
   "metadata": {},
   "source": [
    "Note that in the last point we state that some exceptions should be intentionally ignored. This is because they might actually be the correct and expected behavior of the tested code or even thrown by our byte array parser itself. In the following example we'll try to decode random byte arrays into ascii strings, an operation that will oftentimes fail and, as such, we should just ignore it and continue to the next input.\n",
    "## Example"
   ]
  },
  {
   "cell_type": "code",
   "execution_count": 3,
   "metadata": {},
   "outputs": [],
   "source": [
    "# Cleaning sys.argv for compatibility with Jupyter-Notebook\n",
    "# This should be unnecessary in a vanilla Python environment\n",
    "import sys\n",
    "sys.argv = ['']"
   ]
  },
  {
   "cell_type": "code",
   "execution_count": 4,
   "metadata": {
    "scrolled": true
   },
   "outputs": [
    {
     "name": "stdout",
     "output_type": "stream",
     "text": [
      "#0 READ units: 0\n",
      "#1 NEW     cov: 0 corp: 1 exec/s: 18 rss: 112.484375 MB\n",
      "#2 NEW     cov: 51 corp: 2 exec/s: 703 rss: 112.48828125 MB\n",
      "#20 NEW     cov: 77 corp: 3 exec/s: 3169 rss: 112.48828125 MB\n",
      "#434 NEW     cov: 101 corp: 4 exec/s: 3473 rss: 112.48828125 MB\n",
      "#435 NEW     cov: 429 corp: 5 exec/s: 1146 rss: 112.48828125 MB\n",
      "#455 NEW     cov: 430 corp: 6 exec/s: 3295 rss: 112.48828125 MB\n",
      "#1228 NEW     cov: 438 corp: 7 exec/s: 3246 rss: 112.48828125 MB\n",
      "#1344 NEW     cov: 455 corp: 8 exec/s: 3172 rss: 112.48828125 MB\n",
      "#1358 NEW     cov: 456 corp: 9 exec/s: 2850 rss: 112.48828125 MB\n",
      "#1521 NEW     cov: 476 corp: 10 exec/s: 3168 rss: 112.48828125 MB\n",
      "#3163 NEW     cov: 480 corp: 11 exec/s: 3207 rss: 112.48828125 MB\n",
      "#3168 NEW     cov: 482 corp: 12 exec/s: 1956 rss: 112.55859375 MB\n",
      "#11320 NEW     cov: 504 corp: 13 exec/s: 3116 rss: 112.5625 MB\n",
      "#18950 NEW     cov: 519 corp: 14 exec/s: 3157 rss: 112.5625 MB\n",
      "#20553 NEW     cov: 527 corp: 15 exec/s: 3218 rss: 112.5625 MB\n",
      "#29763 NEW     cov: 535 corp: 16 exec/s: 3169 rss: 112.5625 MB\n",
      "#30649 NEW     cov: 544 corp: 17 exec/s: 3156 rss: 112.5625 MB\n",
      "#31073 NEW     cov: 552 corp: 18 exec/s: 3109 rss: 112.5625 MB\n",
      "#31445 NEW     cov: 565 corp: 19 exec/s: 3107 rss: 112.5625 MB\n",
      "#31914 NEW     cov: 576 corp: 20 exec/s: 3146 rss: 112.5625 MB\n",
      "#42248 NEW     cov: 583 corp: 21 exec/s: 3203 rss: 112.5625 MB\n",
      "#58302 PULSE     cov: 588 corp: 22 exec/s: 3210 rss: 112.5625 MB\n",
      "#74377 PULSE     cov: 588 corp: 22 exec/s: 3214 rss: 112.5625 MB\n",
      "#90506 PULSE     cov: 588 corp: 22 exec/s: 3225 rss: 112.5625 MB\n",
      "#93676 NEW     cov: 588 corp: 22 exec/s: 3227 rss: 112.5625 MB\n",
      "subclasses of ParserBase must override error()\n",
      "Traceback (most recent call last):\n",
      "  File \"/home/claudio/.local/lib/python3.8/site-packages/pythonfuzz/fuzzer.py\", line 24, in worker\n",
      "    target(buf)\n",
      "  File \"<ipython-input-4-fa827987e39a>\", line 11, in fuzz\n",
      "    parser.feed(string)\n",
      "  File \"/usr/lib/python3.8/html/parser.py\", line 111, in feed\n",
      "    self.goahead(0)\n",
      "  File \"/usr/lib/python3.8/html/parser.py\", line 179, in goahead\n",
      "    k = self.parse_html_declaration(i)\n",
      "  File \"/usr/lib/python3.8/html/parser.py\", line 264, in parse_html_declaration\n",
      "    return self.parse_marked_section(i)\n",
      "  File \"/usr/lib/python3.8/_markupbase.py\", line 149, in parse_marked_section\n",
      "    sectName, j = self._scan_name( i+3, i )\n",
      "  File \"/usr/lib/python3.8/_markupbase.py\", line 390, in _scan_name\n",
      "    self.error(\"expected name token at %r\"\n",
      "  File \"/usr/lib/python3.8/_markupbase.py\", line 33, in error\n",
      "    raise NotImplementedError(\n",
      "NotImplementedError: subclasses of ParserBase must override error()\n",
      "crash was written to crash-14c0371177db022fc152450c4a1864b77da553cf4e58f59459fd8c155694a022\n",
      "crash = 3c215b20\n"
     ]
    }
   ],
   "source": [
    "from html.parser import HTMLParser\n",
    "from pythonfuzz.main import PythonFuzz\n",
    "\n",
    "@PythonFuzz\n",
    "def fuzz(buf):\n",
    "    try:\n",
    "        string = buf.decode(\"ascii\")\n",
    "        parser = HTMLParser()\n",
    "        parser.feed(string)\n",
    "    except UnicodeDecodeError:\n",
    "        pass\n",
    "\n",
    "# This `if` statement is here to prevent a possible long execution from happening everytime this book is built\n",
    "# Just consider that we are calling the fuzz function normally\n",
    "if 0:\n",
    "    fuzz()\n",
    "    "
   ]
  },
  {
   "cell_type": "markdown",
   "metadata": {},
   "source": [
    "### Results\n",
    "Given enough time, hopefully the previous code snippet should be able to find an unhandled exception in the html parser, usually the `NotImplementedError: subclasses of ParserBase must override error()`.\n",
    "It will also conveniently save the error-causing input in a file which name it states in the end of its execution so that we can see it and analyze the exception cause. The file's content will be an array of bytes, so you might want to convert it to your intended format before analyzing. <br/>\n",
    "\n",
    "In our execution's case, pythonfuzz said that the input that caused an error was `<![!>`. Let's check if that holds true."
   ]
  },
  {
   "cell_type": "code",
   "execution_count": 5,
   "metadata": {
    "scrolled": true,
    "tags": [
     "raises-exception"
    ]
   },
   "outputs": [
    {
     "ename": "NotImplementedError",
     "evalue": "subclasses of ParserBase must override error()",
     "output_type": "error",
     "traceback": [
      "\u001b[0;31m---------------------------------------------------------------------------\u001b[0m",
      "\u001b[0;31mNotImplementedError\u001b[0m                       Traceback (most recent call last)",
      "\u001b[0;32m<ipython-input-5-c7c095a1c741>\u001b[0m in \u001b[0;36m<module>\u001b[0;34m\u001b[0m\n\u001b[1;32m      1\u001b[0m \u001b[0mparser\u001b[0m \u001b[0;34m=\u001b[0m \u001b[0mHTMLParser\u001b[0m\u001b[0;34m(\u001b[0m\u001b[0;34m)\u001b[0m\u001b[0;34m\u001b[0m\u001b[0;34m\u001b[0m\u001b[0m\n\u001b[0;32m----> 2\u001b[0;31m \u001b[0mparser\u001b[0m\u001b[0;34m.\u001b[0m\u001b[0mfeed\u001b[0m\u001b[0;34m(\u001b[0m\u001b[0;34m'<![!>'\u001b[0m\u001b[0;34m)\u001b[0m\u001b[0;34m\u001b[0m\u001b[0;34m\u001b[0m\u001b[0m\n\u001b[0m",
      "\u001b[0;32m/usr/lib/python3.8/html/parser.py\u001b[0m in \u001b[0;36mfeed\u001b[0;34m(self, data)\u001b[0m\n\u001b[1;32m    109\u001b[0m         \"\"\"\n\u001b[1;32m    110\u001b[0m         \u001b[0mself\u001b[0m\u001b[0;34m.\u001b[0m\u001b[0mrawdata\u001b[0m \u001b[0;34m=\u001b[0m \u001b[0mself\u001b[0m\u001b[0;34m.\u001b[0m\u001b[0mrawdata\u001b[0m \u001b[0;34m+\u001b[0m \u001b[0mdata\u001b[0m\u001b[0;34m\u001b[0m\u001b[0;34m\u001b[0m\u001b[0m\n\u001b[0;32m--> 111\u001b[0;31m         \u001b[0mself\u001b[0m\u001b[0;34m.\u001b[0m\u001b[0mgoahead\u001b[0m\u001b[0;34m(\u001b[0m\u001b[0;36m0\u001b[0m\u001b[0;34m)\u001b[0m\u001b[0;34m\u001b[0m\u001b[0;34m\u001b[0m\u001b[0m\n\u001b[0m\u001b[1;32m    112\u001b[0m \u001b[0;34m\u001b[0m\u001b[0m\n\u001b[1;32m    113\u001b[0m     \u001b[0;32mdef\u001b[0m \u001b[0mclose\u001b[0m\u001b[0;34m(\u001b[0m\u001b[0mself\u001b[0m\u001b[0;34m)\u001b[0m\u001b[0;34m:\u001b[0m\u001b[0;34m\u001b[0m\u001b[0;34m\u001b[0m\u001b[0m\n",
      "\u001b[0;32m/usr/lib/python3.8/html/parser.py\u001b[0m in \u001b[0;36mgoahead\u001b[0;34m(self, end)\u001b[0m\n\u001b[1;32m    177\u001b[0m                     \u001b[0mk\u001b[0m \u001b[0;34m=\u001b[0m \u001b[0mself\u001b[0m\u001b[0;34m.\u001b[0m\u001b[0mparse_pi\u001b[0m\u001b[0;34m(\u001b[0m\u001b[0mi\u001b[0m\u001b[0;34m)\u001b[0m\u001b[0;34m\u001b[0m\u001b[0;34m\u001b[0m\u001b[0m\n\u001b[1;32m    178\u001b[0m                 \u001b[0;32melif\u001b[0m \u001b[0mstartswith\u001b[0m\u001b[0;34m(\u001b[0m\u001b[0;34m\"<!\"\u001b[0m\u001b[0;34m,\u001b[0m \u001b[0mi\u001b[0m\u001b[0;34m)\u001b[0m\u001b[0;34m:\u001b[0m\u001b[0;34m\u001b[0m\u001b[0;34m\u001b[0m\u001b[0m\n\u001b[0;32m--> 179\u001b[0;31m                     \u001b[0mk\u001b[0m \u001b[0;34m=\u001b[0m \u001b[0mself\u001b[0m\u001b[0;34m.\u001b[0m\u001b[0mparse_html_declaration\u001b[0m\u001b[0;34m(\u001b[0m\u001b[0mi\u001b[0m\u001b[0;34m)\u001b[0m\u001b[0;34m\u001b[0m\u001b[0;34m\u001b[0m\u001b[0m\n\u001b[0m\u001b[1;32m    180\u001b[0m                 \u001b[0;32melif\u001b[0m \u001b[0;34m(\u001b[0m\u001b[0mi\u001b[0m \u001b[0;34m+\u001b[0m \u001b[0;36m1\u001b[0m\u001b[0;34m)\u001b[0m \u001b[0;34m<\u001b[0m \u001b[0mn\u001b[0m\u001b[0;34m:\u001b[0m\u001b[0;34m\u001b[0m\u001b[0;34m\u001b[0m\u001b[0m\n\u001b[1;32m    181\u001b[0m                     \u001b[0mself\u001b[0m\u001b[0;34m.\u001b[0m\u001b[0mhandle_data\u001b[0m\u001b[0;34m(\u001b[0m\u001b[0;34m\"<\"\u001b[0m\u001b[0;34m)\u001b[0m\u001b[0;34m\u001b[0m\u001b[0;34m\u001b[0m\u001b[0m\n",
      "\u001b[0;32m/usr/lib/python3.8/html/parser.py\u001b[0m in \u001b[0;36mparse_html_declaration\u001b[0;34m(self, i)\u001b[0m\n\u001b[1;32m    262\u001b[0m             \u001b[0;32mreturn\u001b[0m \u001b[0mself\u001b[0m\u001b[0;34m.\u001b[0m\u001b[0mparse_comment\u001b[0m\u001b[0;34m(\u001b[0m\u001b[0mi\u001b[0m\u001b[0;34m)\u001b[0m\u001b[0;34m\u001b[0m\u001b[0;34m\u001b[0m\u001b[0m\n\u001b[1;32m    263\u001b[0m         \u001b[0;32melif\u001b[0m \u001b[0mrawdata\u001b[0m\u001b[0;34m[\u001b[0m\u001b[0mi\u001b[0m\u001b[0;34m:\u001b[0m\u001b[0mi\u001b[0m\u001b[0;34m+\u001b[0m\u001b[0;36m3\u001b[0m\u001b[0;34m]\u001b[0m \u001b[0;34m==\u001b[0m \u001b[0;34m'<!['\u001b[0m\u001b[0;34m:\u001b[0m\u001b[0;34m\u001b[0m\u001b[0;34m\u001b[0m\u001b[0m\n\u001b[0;32m--> 264\u001b[0;31m             \u001b[0;32mreturn\u001b[0m \u001b[0mself\u001b[0m\u001b[0;34m.\u001b[0m\u001b[0mparse_marked_section\u001b[0m\u001b[0;34m(\u001b[0m\u001b[0mi\u001b[0m\u001b[0;34m)\u001b[0m\u001b[0;34m\u001b[0m\u001b[0;34m\u001b[0m\u001b[0m\n\u001b[0m\u001b[1;32m    265\u001b[0m         \u001b[0;32melif\u001b[0m \u001b[0mrawdata\u001b[0m\u001b[0;34m[\u001b[0m\u001b[0mi\u001b[0m\u001b[0;34m:\u001b[0m\u001b[0mi\u001b[0m\u001b[0;34m+\u001b[0m\u001b[0;36m9\u001b[0m\u001b[0;34m]\u001b[0m\u001b[0;34m.\u001b[0m\u001b[0mlower\u001b[0m\u001b[0;34m(\u001b[0m\u001b[0;34m)\u001b[0m \u001b[0;34m==\u001b[0m \u001b[0;34m'<!doctype'\u001b[0m\u001b[0;34m:\u001b[0m\u001b[0;34m\u001b[0m\u001b[0;34m\u001b[0m\u001b[0m\n\u001b[1;32m    266\u001b[0m             \u001b[0;31m# find the closing >\u001b[0m\u001b[0;34m\u001b[0m\u001b[0;34m\u001b[0m\u001b[0;34m\u001b[0m\u001b[0m\n",
      "\u001b[0;32m/usr/lib/python3.8/_markupbase.py\u001b[0m in \u001b[0;36mparse_marked_section\u001b[0;34m(self, i, report)\u001b[0m\n\u001b[1;32m    147\u001b[0m         \u001b[0mrawdata\u001b[0m\u001b[0;34m=\u001b[0m \u001b[0mself\u001b[0m\u001b[0;34m.\u001b[0m\u001b[0mrawdata\u001b[0m\u001b[0;34m\u001b[0m\u001b[0;34m\u001b[0m\u001b[0m\n\u001b[1;32m    148\u001b[0m         \u001b[0;32massert\u001b[0m \u001b[0mrawdata\u001b[0m\u001b[0;34m[\u001b[0m\u001b[0mi\u001b[0m\u001b[0;34m:\u001b[0m\u001b[0mi\u001b[0m\u001b[0;34m+\u001b[0m\u001b[0;36m3\u001b[0m\u001b[0;34m]\u001b[0m \u001b[0;34m==\u001b[0m \u001b[0;34m'<!['\u001b[0m\u001b[0;34m,\u001b[0m \u001b[0;34m\"unexpected call to parse_marked_section()\"\u001b[0m\u001b[0;34m\u001b[0m\u001b[0;34m\u001b[0m\u001b[0m\n\u001b[0;32m--> 149\u001b[0;31m         \u001b[0msectName\u001b[0m\u001b[0;34m,\u001b[0m \u001b[0mj\u001b[0m \u001b[0;34m=\u001b[0m \u001b[0mself\u001b[0m\u001b[0;34m.\u001b[0m\u001b[0m_scan_name\u001b[0m\u001b[0;34m(\u001b[0m \u001b[0mi\u001b[0m\u001b[0;34m+\u001b[0m\u001b[0;36m3\u001b[0m\u001b[0;34m,\u001b[0m \u001b[0mi\u001b[0m \u001b[0;34m)\u001b[0m\u001b[0;34m\u001b[0m\u001b[0;34m\u001b[0m\u001b[0m\n\u001b[0m\u001b[1;32m    150\u001b[0m         \u001b[0;32mif\u001b[0m \u001b[0mj\u001b[0m \u001b[0;34m<\u001b[0m \u001b[0;36m0\u001b[0m\u001b[0;34m:\u001b[0m\u001b[0;34m\u001b[0m\u001b[0;34m\u001b[0m\u001b[0m\n\u001b[1;32m    151\u001b[0m             \u001b[0;32mreturn\u001b[0m \u001b[0mj\u001b[0m\u001b[0;34m\u001b[0m\u001b[0;34m\u001b[0m\u001b[0m\n",
      "\u001b[0;32m/usr/lib/python3.8/_markupbase.py\u001b[0m in \u001b[0;36m_scan_name\u001b[0;34m(self, i, declstartpos)\u001b[0m\n\u001b[1;32m    388\u001b[0m         \u001b[0;32melse\u001b[0m\u001b[0;34m:\u001b[0m\u001b[0;34m\u001b[0m\u001b[0;34m\u001b[0m\u001b[0m\n\u001b[1;32m    389\u001b[0m             \u001b[0mself\u001b[0m\u001b[0;34m.\u001b[0m\u001b[0mupdatepos\u001b[0m\u001b[0;34m(\u001b[0m\u001b[0mdeclstartpos\u001b[0m\u001b[0;34m,\u001b[0m \u001b[0mi\u001b[0m\u001b[0;34m)\u001b[0m\u001b[0;34m\u001b[0m\u001b[0;34m\u001b[0m\u001b[0m\n\u001b[0;32m--> 390\u001b[0;31m             self.error(\"expected name token at %r\"\n\u001b[0m\u001b[1;32m    391\u001b[0m                        % rawdata[declstartpos:declstartpos+20])\n\u001b[1;32m    392\u001b[0m \u001b[0;34m\u001b[0m\u001b[0m\n",
      "\u001b[0;32m/usr/lib/python3.8/_markupbase.py\u001b[0m in \u001b[0;36merror\u001b[0;34m(self, message)\u001b[0m\n\u001b[1;32m     31\u001b[0m \u001b[0;34m\u001b[0m\u001b[0m\n\u001b[1;32m     32\u001b[0m     \u001b[0;32mdef\u001b[0m \u001b[0merror\u001b[0m\u001b[0;34m(\u001b[0m\u001b[0mself\u001b[0m\u001b[0;34m,\u001b[0m \u001b[0mmessage\u001b[0m\u001b[0;34m)\u001b[0m\u001b[0;34m:\u001b[0m\u001b[0;34m\u001b[0m\u001b[0;34m\u001b[0m\u001b[0m\n\u001b[0;32m---> 33\u001b[0;31m         raise NotImplementedError(\n\u001b[0m\u001b[1;32m     34\u001b[0m             \"subclasses of ParserBase must override error()\")\n\u001b[1;32m     35\u001b[0m \u001b[0;34m\u001b[0m\u001b[0m\n",
      "\u001b[0;31mNotImplementedError\u001b[0m: subclasses of ParserBase must override error()"
     ]
    }
   ],
   "source": [
    "parser = HTMLParser()\n",
    "parser.feed('<![!>')"
   ]
  },
  {
   "cell_type": "markdown",
   "metadata": {},
   "source": [
    "In fact, it seems like this input really breaks the html parser. <br/>\n",
    "Now, what about using it to test our own programs? Well, we can apply the same principles as before. For the next example, let's create a hypothetical function that receives an integer but raises an exception when this integer is 74."
   ]
  },
  {
   "cell_type": "code",
   "execution_count": 6,
   "metadata": {},
   "outputs": [
    {
     "name": "stdout",
     "output_type": "stream",
     "text": [
      "#0 READ units: 0\n",
      "#1 NEW     cov: 0 corp: 1 exec/s: 107 rss: 113.54296875 MB\n",
      "#2 NEW     cov: 29 corp: 2 exec/s: 960 rss: 113.59375 MB\n",
      "#28880 PULSE     cov: 55 corp: 3 exec/s: 5775 rss: 113.59375 MB\n",
      "oh no\n",
      "Traceback (most recent call last):\n",
      "  File \"/home/claudio/.local/lib/python3.8/site-packages/pythonfuzz/fuzzer.py\", line 24, in worker\n",
      "    target(buf)\n",
      "  File \"<ipython-input-6-1259eb7f2e89>\", line 11, in fuzz2\n",
      "    intFunc(integer)\n",
      "  File \"<ipython-input-6-1259eb7f2e89>\", line 3, in intFunc\n",
      "    raise Exception('oh no')\n",
      "Exception: oh no\n",
      "crash was written to crash-6da43b944e494e885e69af021f93c6d9331c78aa228084711429160a5bbd15b5\n",
      "crash = 4a\n"
     ]
    }
   ],
   "source": [
    "def intFunc(integer):\n",
    "    if integer == 74:\n",
    "        raise Exception('oh no')\n",
    "    else:\n",
    "        return \"ok\"\n",
    "\n",
    "@PythonFuzz\n",
    "def fuzz2(buf):\n",
    "    try:\n",
    "        integer = int.from_bytes(buf, \"big\")  \n",
    "        intFunc(integer)\n",
    "\n",
    "    except SyntaxError:\n",
    "        pass\n",
    "\n",
    "\n",
    "fuzz2()"
   ]
  },
  {
   "cell_type": "markdown",
   "metadata": {},
   "source": [
    "Note that in this case we also used the `try/except` block to pass when finding a `SyntaxError`. This is because not all byte arrays can be converted to integers and we wouldn't want the fuzzer to stop its execution because of that, so it must just move on to the next input and try again."
   ]
  },
  {
   "cell_type": "markdown",
   "metadata": {},
   "source": [
    "### Conclusion\n",
    "As seen in our example, fuzzers are very easy to use and even develop. I encourage you to take a look into pythonfuzz's repository and see how simple the implementation really is. You might even be able to contribute since it is open-source! This technique is also quite powerful, as it can find edge-cases that a human mind would hardly have even thought of. <br/>\n",
    "If you want to learn more deeply about fuzzing, I highly recommend you to read the spectacular [Fuzzing Book](https://www.fuzzingbook.org/) by Andreas Zeller, Rahul Gopinath, Marcel Böhme, Gordon Fraser, and Christian Holler. It really enters in detail about every single aspect of this technique and is an accessible read even for beginner programmers."
   ]
  },
  {
   "cell_type": "markdown",
   "metadata": {},
   "source": [
    "## References\n",
    "1. https://en.wikipedia.org/wiki/Fuzzing\n",
    "2. https://www.fuzzingbook.org/\n",
    "3. https://owasp.org/www-community/Fuzzing\n",
    "4. http://www.squarefree.com/categories/fuzzing/\n",
    "5. https://gitlab.com/gitlab-org/security-products/analyzers/fuzzers/pythonfuzz"
   ]
  }
 ],
 "metadata": {
  "kernelspec": {
   "display_name": "Python 3",
   "language": "python",
   "name": "python3"
  },
  "language_info": {
   "codemirror_mode": {
    "name": "ipython",
    "version": 3
   },
   "file_extension": ".py",
   "mimetype": "text/x-python",
   "name": "python",
   "nbconvert_exporter": "python",
   "pygments_lexer": "ipython3",
   "version": "3.8.2"
  }
 },
 "nbformat": 4,
 "nbformat_minor": 4
}