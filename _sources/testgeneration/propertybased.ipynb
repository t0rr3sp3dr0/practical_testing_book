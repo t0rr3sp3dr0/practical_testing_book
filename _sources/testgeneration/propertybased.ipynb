{
  "cells": [
    {
      "cell_type": "markdown",
      "metadata": {
        "id": "xUmmm-4E5Gei",
        "colab_type": "text"
      },
      "source": [
        "Property-based Testing\n",
        "======================\n",
        "\n",
        "Property-based testing is a method of testing where tests are written to assert that your software satisfies a set of properties for many different inputs.\n",
        "In example-based testing, the behavior of your software is verified for specific examples, in the form of concrete inputs. Property-based testing generalizes this to test your software for any valid input. In addition to that, property-based testing focuses on testing more general properties of our software, behaviors that always hold even when the input changes. In example-based testing, we are usually concerned with the more concrete and specific behavior that applies to our example at hand.\n",
        "\n",
        "## Why?\n",
        "\n",
        "Property-based testing verifies that our properties hold for many inputs, instead of a set of specific examples. This allows our tests to catch bugs that would otherwise go undetected.\n",
        "\n",
        "Property-based testing allows us to focus on what is really relevant to our test. We need to think about what our input looks like in more general terms. For instance, if one of our input parameters is an integer, we must think if our software accepts all integer values or only those in a specific range. We are also forced to think about what kinds of properties our software has. Those things are explicitly codified in our tests, so property-based testing forces us to make our assumptions explicit.\n",
        "\n",
        "## How?\n",
        "\n",
        "The original property-based testing library is [QuickCheck](https://hackage.haskell.org/package/QuickCheck), written for Haskell, but there are tools for property-based testing for [many languages](https://en.wikipedia.org/wiki/QuickCheck).\n",
        "A property-based library usually consists of two basic parts. One of them is a component capable of generating a large set of data to be used as input for the tests. The other is a library that allows us to formulate the properties that we want to test.\n",
        "\n",
        "## Example: Hypothesis\n",
        "\n",
        "We will use [Hypothesis](https://hypothesis.works/) in Python as our property-based testing library. Let's install it:"
      ]
    },
    {
      "cell_type": "code",
      "metadata": {
        "id": "003okM7_KEEl",
        "colab_type": "code",
        "colab": {
          "base_uri": "https://localhost:8080/",
          "height": 136
        },
        "outputId": "df3c41c1-5099-4a72-9bcd-c77fc418e510"
      },
      "source": [
        "!pip install hypothesis # Install hypothesis"
      ],
      "execution_count": 11,
      "outputs": [
        {
          "output_type": "stream",
          "text": [
            "Collecting hypothesis\n",
            "\u001b[?25l  Downloading https://files.pythonhosted.org/packages/2e/5f/4057b926d3272f666810fd620b8c754c0b6642b96f1bcc19ba3f91703c24/hypothesis-5.19.3-py3-none-any.whl (301kB)\n",
            "\r\u001b[K     |█                               | 10kB 17.2MB/s eta 0:00:01\r\u001b[K     |██▏                             | 20kB 2.1MB/s eta 0:00:01\r\u001b[K     |███▎                            | 30kB 2.7MB/s eta 0:00:01\r\u001b[K     |████▍                           | 40kB 3.1MB/s eta 0:00:01\r\u001b[K     |█████▍                          | 51kB 2.5MB/s eta 0:00:01\r\u001b[K     |██████▌                         | 61kB 2.8MB/s eta 0:00:01\r\u001b[K     |███████▋                        | 71kB 3.0MB/s eta 0:00:01\r\u001b[K     |████████▊                       | 81kB 3.4MB/s eta 0:00:01\r\u001b[K     |█████████▊                      | 92kB 3.6MB/s eta 0:00:01\r\u001b[K     |██████████▉                     | 102kB 3.4MB/s eta 0:00:01\r\u001b[K     |████████████                    | 112kB 3.4MB/s eta 0:00:01\r\u001b[K     |█████████████                   | 122kB 3.4MB/s eta 0:00:01\r\u001b[K     |██████████████▏                 | 133kB 3.4MB/s eta 0:00:01\r\u001b[K     |███████████████▏                | 143kB 3.4MB/s eta 0:00:01\r\u001b[K     |████████████████▎               | 153kB 3.4MB/s eta 0:00:01\r\u001b[K     |█████████████████▍              | 163kB 3.4MB/s eta 0:00:01\r\u001b[K     |██████████████████▌             | 174kB 3.4MB/s eta 0:00:01\r\u001b[K     |███████████████████▌            | 184kB 3.4MB/s eta 0:00:01\r\u001b[K     |████████████████████▋           | 194kB 3.4MB/s eta 0:00:01\r\u001b[K     |█████████████████████▊          | 204kB 3.4MB/s eta 0:00:01\r\u001b[K     |██████████████████████▉         | 215kB 3.4MB/s eta 0:00:01\r\u001b[K     |███████████████████████▉        | 225kB 3.4MB/s eta 0:00:01\r\u001b[K     |█████████████████████████       | 235kB 3.4MB/s eta 0:00:01\r\u001b[K     |██████████████████████████      | 245kB 3.4MB/s eta 0:00:01\r\u001b[K     |███████████████████████████▏    | 256kB 3.4MB/s eta 0:00:01\r\u001b[K     |████████████████████████████▎   | 266kB 3.4MB/s eta 0:00:01\r\u001b[K     |█████████████████████████████▎  | 276kB 3.4MB/s eta 0:00:01\r\u001b[K     |██████████████████████████████▍ | 286kB 3.4MB/s eta 0:00:01\r\u001b[K     |███████████████████████████████▌| 296kB 3.4MB/s eta 0:00:01\r\u001b[K     |████████████████████████████████| 307kB 3.4MB/s \n",
            "\u001b[?25hRequirement already satisfied: sortedcontainers<3.0.0,>=2.1.0 in /usr/local/lib/python3.6/dist-packages (from hypothesis) (2.2.2)\n",
            "Requirement already satisfied: attrs>=19.2.0 in /usr/local/lib/python3.6/dist-packages (from hypothesis) (19.3.0)\n",
            "Installing collected packages: hypothesis\n",
            "Successfully installed hypothesis-5.19.3\n"
          ],
          "name": "stdout"
        }
      ]
    },
    {
      "cell_type": "markdown",
      "metadata": {
        "id": "HFO2UMVjKWah",
        "colab_type": "text"
      },
      "source": [
        "Now we need the code that we want to test. The Python standard library [defines a string method called `center`](https://docs.python.org/3/library/stdtypes.html#str.center):\n",
        "\n",
        "```\n",
        "str.center(width[, fillchar])\n",
        "Return centered in a string of length width. Padding is done using the specified fillchar (default is an ASCII space). The original string is returned if width is less than or equal to len(s).\n",
        "```\n",
        "Our example will be a function that tries to implement the `center` string method, following the above specification:"
      ]
    },
    {
      "cell_type": "code",
      "metadata": {
        "id": "6lRFvMKbQUQP",
        "colab_type": "code",
        "colab": {
          "base_uri": "https://localhost:8080/",
          "height": 35
        },
        "cellView": "both",
        "outputId": "0638c411-8dd6-475e-a9da-6143fc6f85da"
      },
      "source": [
        "# String center function that we want to test\n",
        "\n",
        "def center(s, width, fillchar=' '):\n",
        "  if len(s) >= width:\n",
        "    return s;\n",
        "  margin = width - len(s)\n",
        "  left_margin = margin // 2\n",
        "  right_margin = margin - left_margin\n",
        "  return (fillchar * left_margin) + s + (fillchar * right_margin)\n",
        "\n",
        "center('abc', 5)"
      ],
      "execution_count": 28,
      "outputs": [
        {
          "output_type": "execute_result",
          "data": {
            "application/vnd.google.colaboratory.intrinsic": {
              "type": "string"
            },
            "text/plain": [
              "' abc '"
            ]
          },
          "metadata": {
            "tags": []
          },
          "execution_count": 28
        }
      ]
    },
    {
      "cell_type": "markdown",
      "metadata": {
        "id": "Z6OywDhql2NB",
        "colab_type": "text"
      },
      "source": [
        "This is based on [CPython's implementation of `center`](https://github.com/python/cpython/blob/98ce7b107e6611d04dc35a4f5b02ea215ef122cf/Objects/stringlib/transmogrify.h#L195). CPython also has [tests for `center`](https://github.com/python/cpython/blob/a81849b0315277bb3937271174aaaa5059c0b445/Lib/test/string_tests.py#L854-L860), but they are example-based. We can adapt those tests to use our implementation of `center`:"
      ]
    },
    {
      "cell_type": "code",
      "metadata": {
        "id": "AfelU-pPp9W1",
        "colab_type": "code",
        "colab": {
          "base_uri": "https://localhost:8080/",
          "height": 119
        },
        "outputId": "1338aeaa-2b3b-437a-ccc4-130b5ab4cf19"
      },
      "source": [
        "import unittest\n",
        "\n",
        "class CenterExampleTest(unittest.TestCase):\n",
        "  def test_center(self):\n",
        "    self.assertEqual(center('abc', 10), '   abc    ')\n",
        "    self.assertEqual(center('abc', 6), ' abc  ')\n",
        "    self.assertEqual(center('abc', 3), 'abc')\n",
        "    self.assertEqual(center('abc', 2), 'abc')\n",
        "    self.assertEqual(center('abc', 10, '*'), '***abc****')\n",
        "    with self.assertRaises(TypeError):\n",
        "          center('abc')\n",
        "\n",
        "# We must call unittest like this to run it in a notebook\n",
        "unittest.main(argv=['first-arg-is-ignored', 'CenterExampleTest'], exit=False)"
      ],
      "execution_count": 39,
      "outputs": [
        {
          "output_type": "stream",
          "text": [
            ".\n",
            "----------------------------------------------------------------------\n",
            "Ran 1 test in 0.002s\n",
            "\n",
            "OK\n"
          ],
          "name": "stderr"
        },
        {
          "output_type": "execute_result",
          "data": {
            "text/plain": [
              "<unittest.main.TestProgram at 0x7fe97ae9b240>"
            ]
          },
          "metadata": {
            "tags": []
          },
          "execution_count": 39
        }
      ]
    },
    {
      "cell_type": "markdown",
      "metadata": {
        "id": "lZPyVKM300Oz",
        "colab_type": "text"
      },
      "source": [
        "But now we want to improve our tests and write them using property-based testing. First, we need to think which properties our function must hold. Abstracting from the examples in the test above, we might want to consider two scenarios:\n",
        "1. When the length of the input string is smaller or equal to the input width, `center` returns the original string.\n",
        "2. When the length of the input string is greater than the width, we expect the returned string to have length equal to the input width. This is a simple property that is easy to check and might still find bugs. We may be tempted to define a property that captures the fact that a string is 'centered' in another, but this property's implementation could in turn have bugs and need tests, so we need to strike a balance here.\n",
        "\n",
        "Let's write our property-based tests using Hypothesis for those two scenarios:"
      ]
    },
    {
      "cell_type": "code",
      "metadata": {
        "id": "TCSQDMzQCapE",
        "colab_type": "code",
        "colab": {
          "base_uri": "https://localhost:8080/",
          "height": 119
        },
        "outputId": "632fa7d1-25cd-4c8a-a56d-a79f2a8cf930"
      },
      "source": [
        "import unittest\n",
        "\n",
        "from hypothesis import given, assume, settings, HealthCheck\n",
        "from hypothesis.strategies import text, integers\n",
        "\n",
        "class CenterPropertyTest(unittest.TestCase):\n",
        "  @settings(suppress_health_check=HealthCheck.all())\n",
        "  @given(\n",
        "      s=text(max_size=100),\n",
        "      width=integers(max_value=100)\n",
        "  )\n",
        "  def test_center_length_less_than_width(self, s, width):\n",
        "    assume(len(s) < width) \n",
        "    self.assertEqual(len(center(s, width)), width)\n",
        "\n",
        "  @given(\n",
        "      s=text(),\n",
        "      width=integers(max_value=100)\n",
        "  )\n",
        "  def test_center_length_greater_or_equal_to_width(self, s, width):\n",
        "    assume(len(s) >= width) \n",
        "    self.assertEqual(center(s, width), s)\n",
        "    \n",
        "\n",
        "unittest.main(argv=['first-arg-is-ignored', 'CenterPropertyTest'], exit=False)"
      ],
      "execution_count": 63,
      "outputs": [
        {
          "output_type": "stream",
          "text": [
            "..\n",
            "----------------------------------------------------------------------\n",
            "Ran 2 tests in 1.049s\n",
            "\n",
            "OK\n"
          ],
          "name": "stderr"
        },
        {
          "output_type": "execute_result",
          "data": {
            "text/plain": [
              "<unittest.main.TestProgram at 0x7fe97af194e0>"
            ]
          },
          "metadata": {
            "tags": []
          },
          "execution_count": 63
        }
      ]
    },
    {
      "cell_type": "markdown",
      "metadata": {
        "id": "zcR4CCVkF5g5",
        "colab_type": "text"
      },
      "source": [
        "Looking at the tests, we can see that we use the `given` decorator to describe what our parameters look like so that Hypothesis can generate valid inputs for our tests. We have a parameter called `s`, which is a string. In fact, it could be any string, so instead of testing `center` for a single string like `'abc'`, Hypothesis is going to run our tests for many different strings.\n",
        "\n",
        "To tell Hypothesis that `s` could be any string, we need to use what the library calls [strategies](https://hypothesis.readthedocs.io/en/latest/data.html). A strategy is a description of values our parameter can have. We are using the `text` strategy to describe a string.\n",
        "\n",
        "The same thing happens for `width`: in theory, it could be any integer, so we use the `integers` strategy. However, to avoid timeouts when running our tests, we limit `width` to being at most 1000. This happens because Hypothesis tries to look for special values that could be an edge case for our code, so it will for example try using the empty string, and very large integers.\n",
        "\n",
        "Because we want to distinguish two different scenarios, we also use the [`assume` decorator](https://hypothesis.readthedocs.io/en/latest/details.html?#making-assumptions)\n",
        "\n",
        "We can now add back the example-based tests. They will complement our property-based tests, like the case of a missing argument or the case when `fillchar` is provided.\n",
        "\n"
      ]
    },
    {
      "cell_type": "code",
      "metadata": {
        "id": "cw1OH18SJDuk",
        "colab_type": "code",
        "colab": {
          "base_uri": "https://localhost:8080/",
          "height": 119
        },
        "outputId": "52ce0857-6590-4ba8-f15d-20a470e6fa0d"
      },
      "source": [
        "import unittest\n",
        "\n",
        "from hypothesis import given, assume, settings, HealthCheck\n",
        "from hypothesis.strategies import text, integers\n",
        "\n",
        "class CenterTest(unittest.TestCase):\n",
        "  def test_center_missing_arg(self):\n",
        "    with self.assertRaises(TypeError):\n",
        "          center('abc')\n",
        "\n",
        "  def test_center_examples(self):\n",
        "    self.assertEqual(center('abc', 10), '   abc    ')\n",
        "    self.assertEqual(center('abc', 6), ' abc  ')\n",
        "    self.assertEqual(center('abc', 10, '*'), '***abc****')\n",
        "\n",
        "  @settings(suppress_health_check=HealthCheck.all())\n",
        "  @given(\n",
        "      s=text(),\n",
        "      width=integers(max_value=1000)\n",
        "  )\n",
        "  def test_center_length_less_than_width(self, s, width):\n",
        "    assume(len(s) < width) \n",
        "    self.assertEqual(len(center(s, width)), width)\n",
        "\n",
        "  @given(\n",
        "      s=text(),\n",
        "      width=integers(max_value=1000)\n",
        "  )\n",
        "  def test_center_length_greater_or_equal_to_width(self, s, width):\n",
        "    assume(len(s) >= width) \n",
        "    self.assertEqual(center(s, width), s)\n",
        "    \n",
        "\n",
        "unittest.main(argv=['first-arg-is-ignored', 'CenterTest'], exit=False)"
      ],
      "execution_count": 42,
      "outputs": [
        {
          "output_type": "stream",
          "text": [
            "....\n",
            "----------------------------------------------------------------------\n",
            "Ran 4 tests in 0.885s\n",
            "\n",
            "OK\n"
          ],
          "name": "stderr"
        },
        {
          "output_type": "execute_result",
          "data": {
            "text/plain": [
              "<unittest.main.TestProgram at 0x7fe97b25a3c8>"
            ]
          },
          "metadata": {
            "tags": []
          },
          "execution_count": 42
        }
      ]
    },
    {
      "cell_type": "markdown",
      "metadata": {
        "id": "gW5maDk5QVMM",
        "colab_type": "text"
      },
      "source": [
        "To see how property-based testing could help us find bugs, let's try testing an implementation of `center` that has a bug:"
      ]
    },
    {
      "cell_type": "code",
      "metadata": {
        "id": "RnjxYq6MQTvQ",
        "colab_type": "code",
        "colab": {
          "base_uri": "https://localhost:8080/",
          "height": 35
        },
        "outputId": "768f1907-f0c4-41b5-e4b9-392f24ec3912"
      },
      "source": [
        "# Center implementation with a bug\n",
        "\n",
        "def center_with_bug(s, width, fillchar=' '):\n",
        "  if len(s) >= width:\n",
        "    return s;\n",
        "  margin = width - len(s)\n",
        "  left_margin = margin // 2\n",
        "  right_margin = margin // 2\n",
        "  return (fillchar * left_margin) + s + (fillchar * right_margin)\n",
        "\n",
        "center_with_bug('abc', 5)"
      ],
      "execution_count": 29,
      "outputs": [
        {
          "output_type": "execute_result",
          "data": {
            "application/vnd.google.colaboratory.intrinsic": {
              "type": "string"
            },
            "text/plain": [
              "' abc '"
            ]
          },
          "metadata": {
            "tags": []
          },
          "execution_count": 29
        }
      ]
    },
    {
      "cell_type": "markdown",
      "metadata": {
        "id": "8M6bpsRPW0zR",
        "colab_type": "text"
      },
      "source": [
        "The bug here is that, to get the left and right margins, we divide the total margin available by two. However, `margin` can be an odd integer, and in that case `margin // 2` will be rounded down, and the length of our resulting string won't be equal to `width`.\n",
        "\n",
        "This looks like something that is easy to detect, but if we go back to our example-based tests, we might easily have used an example string (e.g. `\"abcd\"`) that leaves us testing only even margins:"
      ]
    },
    {
      "cell_type": "code",
      "metadata": {
        "id": "dwaeQGvdYtjc",
        "colab_type": "code",
        "colab": {
          "base_uri": "https://localhost:8080/",
          "height": 119
        },
        "outputId": "0a7dfa18-0050-473b-c57d-c9dfb8a1257d"
      },
      "source": [
        "import unittest\n",
        "\n",
        "class CenterWithBugExampleTest(unittest.TestCase):\n",
        "  def test_center_with_bug(self):\n",
        "    self.assertEqual(center_with_bug('abcd', 10), '   abcd   ')\n",
        "    self.assertEqual(center_with_bug('abcd', 6), ' abcd ')\n",
        "    self.assertEqual(center_with_bug('abcd', 3), 'abcd')\n",
        "    self.assertEqual(center_with_bug('abcd', 2), 'abcd')\n",
        "    self.assertEqual(center_with_bug('abcd', 10, '*'), '***abcd***')\n",
        "    with self.assertRaises(TypeError):\n",
        "          center_with_bug('abcd')\n",
        "\n",
        "unittest.main(argv=['first-arg-is-ignored', 'CenterWithBugExampleTest'], exit=False)"
      ],
      "execution_count": 44,
      "outputs": [
        {
          "output_type": "stream",
          "text": [
            ".\n",
            "----------------------------------------------------------------------\n",
            "Ran 1 test in 0.001s\n",
            "\n",
            "OK\n"
          ],
          "name": "stderr"
        },
        {
          "output_type": "execute_result",
          "data": {
            "text/plain": [
              "<unittest.main.TestProgram at 0x7fe97be3fe10>"
            ]
          },
          "metadata": {
            "tags": []
          },
          "execution_count": 44
        }
      ]
    },
    {
      "cell_type": "markdown",
      "metadata": {
        "id": "KCjcrDvJcv_A",
        "colab_type": "text"
      },
      "source": [
        "However, if we try running our property-based tests, we will find the bug:"
      ]
    },
    {
      "cell_type": "code",
      "metadata": {
        "id": "fIb-aUYidkb4",
        "colab_type": "code",
        "colab": {
          "base_uri": "https://localhost:8080/",
          "height": 408
        },
        "outputId": "fb29cf45-cbe5-41d0-a8f9-b4065fe0683b"
      },
      "source": [
        "import unittest\n",
        "\n",
        "from hypothesis import given, assume, settings, HealthCheck\n",
        "from hypothesis.strategies import text, integers\n",
        "\n",
        "class CenterWithBugPropertyTest(unittest.TestCase):\n",
        "  @settings(suppress_health_check=HealthCheck.all())\n",
        "  @given(\n",
        "      s=text(max_value=1000),\n",
        "      width=integers(max_value=1000)\n",
        "  )\n",
        "  def test_center_with_bug_length_less_than_width(self, s, width):\n",
        "    assume(len(s) < width) \n",
        "    self.assertEqual(len(center_with_bug(s, width)), width)\n",
        "\n",
        "  @given(\n",
        "      s=text(),\n",
        "      width=integers(max_value=1000)\n",
        "  )\n",
        "  def test_center_with_bug_length_greater_or_equal_to_width(self, s, width):\n",
        "    assume(len(s) >= width) \n",
        "    self.assertEqual(center_with_bug(s, width), s)\n",
        "    \n",
        "\n",
        "unittest.main(argv=['first-arg-is-ignored', 'CenterWithBugPropertyTest'], exit=False)"
      ],
      "execution_count": 45,
      "outputs": [
        {
          "output_type": "stream",
          "text": [
            ".F"
          ],
          "name": "stderr"
        },
        {
          "output_type": "stream",
          "text": [
            "Falsifying example: test_center_with_bug_length_less_than_width(\n",
            "    self=<__main__.CenterWithBugPropertyTest testMethod=test_center_with_bug_length_less_than_width>,\n",
            "    s='',\n",
            "    width=1,\n",
            ")\n"
          ],
          "name": "stdout"
        },
        {
          "output_type": "stream",
          "text": [
            "\n",
            "======================================================================\n",
            "FAIL: test_center_with_bug_length_less_than_width (__main__.CenterWithBugPropertyTest)\n",
            "----------------------------------------------------------------------\n",
            "Traceback (most recent call last):\n",
            "  File \"<ipython-input-45-b3065f59db69>\", line 8, in test_center_with_bug_length_less_than_width\n",
            "    @given(\n",
            "  File \"/usr/local/lib/python3.6/dist-packages/hypothesis/core.py\", line 1141, in wrapped_test\n",
            "    raise the_error_hypothesis_found\n",
            "  File \"<ipython-input-45-b3065f59db69>\", line 14, in test_center_with_bug_length_less_than_width\n",
            "    self.assertEqual(len(center_with_bug(s, width)), width)\n",
            "AssertionError: 0 != 1\n",
            "\n",
            "----------------------------------------------------------------------\n",
            "Ran 2 tests in 0.389s\n",
            "\n",
            "FAILED (failures=1)\n"
          ],
          "name": "stderr"
        },
        {
          "output_type": "execute_result",
          "data": {
            "text/plain": [
              "<unittest.main.TestProgram at 0x7fe97b360b70>"
            ]
          },
          "metadata": {
            "tags": []
          },
          "execution_count": 45
        }
      ]
    },
    {
      "cell_type": "markdown",
      "metadata": {
        "id": "rKGRWcbzd6u-",
        "colab_type": "text"
      },
      "source": [
        "Hypothesis found an example that falsifies our assertion that `len(center_with_bug(s, width))` equals `width`. The falsifying example is `s=\"\"` and `width=1`.\n",
        "\n",
        "A nice feature of Hypothesis and other property-based testing libraries is that, once the library finds a falsifying example, it tries to shrink the example to be the simplest (smallest) example that still breaks our tests. This is important because, once our test fails, we don't want to have to debug our code using a huge and complex example.\n",
        "\n",
        "This may seem like an artifical example (because it is), but it goes to show that it is easy to miss certain scenarios using only example-based testing, and property-based testing can help us find more bugs."
      ]
    },
    {
      "cell_type": "markdown",
      "metadata": {
        "id": "_XoAIend7kma",
        "colab_type": "text"
      },
      "source": [
        "## References\n",
        "\n",
        "* [David R. MacIver, \"What is Property Based Testing?\"](https://hypothesis.works/articles/what-is-property-based-testing/)\n",
        "* [David R. MacIver, \"In praise of property-based testing\"](https://increment.com/testing/in-praise-of-property-based-testing/)\n",
        "* [Jessica Kerr, \"Property-based testing: what is it?\"](https://jessitron.com/2013/04/25/property-based-testing-what-is-it/)\n",
        "* [Hypothesis documentation](https://hypothesis.readthedocs.io/en/latest/)\n",
        "* [Claessen, Koen, and John Hughes. \"QuickCheck: a lightweight tool for random testing of Haskell programs.\" Acm sigplan notices 46.4 (2011): 53-64.](https://www.cs.tufts.edu/~nr/cs257/archive/john-hughes/quick.pdf)"
      ]
    }
  ],
  "metadata": {
    "colab": {
      "name": "PBT.ipynb",
      "provenance": [],
      "collapsed_sections": []
    },
    "kernelspec": {
      "name": "python3",
      "display_name": "Python 3"
    },
    "language_info": {
      "name": "python",
      "version": "3.7.8",
      "mimetype": "text/x-python",
      "codemirror_mode": {
        "name": "ipython",
        "version": 3
      },
      "pygments_lexer": "ipython3",
      "nbconvert_exporter": "python",
      "file_extension": ".py"
    }
  },
  "nbformat": 4,
  "nbformat_minor": 0
}